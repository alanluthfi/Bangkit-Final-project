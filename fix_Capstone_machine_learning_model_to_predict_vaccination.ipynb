{
  "nbformat": 4,
  "nbformat_minor": 0,
  "metadata": {
    "colab": {
      "name": "fix Capstone machine learning model to predict vaccination.ipynb",
      "provenance": [],
      "collapsed_sections": []
    },
    "kernelspec": {
      "name": "python3",
      "display_name": "Python 3"
    },
    "language_info": {
      "name": "python"
    },
    "accelerator": "GPU"
  },
  "cells": [
    {
      "cell_type": "markdown",
      "metadata": {
        "id": "Eisz_1hVr84z"
      },
      "source": [
        "Importing Library"
      ]
    },
    {
      "cell_type": "code",
      "metadata": {
        "id": "12QiOAkGRNYH"
      },
      "source": [
        "import math\n",
        "\n",
        "import tensorflow as tf\n",
        "from tensorflow import keras\n",
        "from keras.models import Sequential\n",
        "from tensorflow.keras import layers\n",
        "from tensorflow.keras.utils import Sequence\n",
        "from datetime import timedelta\n",
        "from sklearn.preprocessing import MinMaxScaler\n",
        "from sklearn.metrics import mean_squared_error\n",
        "from keras.preprocessing.sequence import TimeseriesGenerator\n",
        "from keras.layers.recurrent import LSTM\n",
        "import numpy as np\n",
        "import pandas as pd\n",
        "import time\n",
        "import plotly.graph_objects as go\n",
        "from keras.layers import Activation, Dense\n",
        "\n",
        "import os"
      ],
      "execution_count": null,
      "outputs": []
    },
    {
      "cell_type": "code",
      "metadata": {
        "colab": {
          "base_uri": "https://localhost:8080/"
        },
        "id": "3RoizEaHNcQH",
        "outputId": "4428a75f-b30a-47b6-c255-29d98e2b3ac5"
      },
      "source": [
        "!python --version"
      ],
      "execution_count": null,
      "outputs": [
        {
          "output_type": "stream",
          "text": [
            "Python 3.7.10\n"
          ],
          "name": "stdout"
        }
      ]
    },
    {
      "cell_type": "code",
      "metadata": {
        "id": "WH8a-PBCIvDU"
      },
      "source": [
        "!pip3 freeze > requirements.txt "
      ],
      "execution_count": null,
      "outputs": []
    },
    {
      "cell_type": "markdown",
      "metadata": {
        "id": "APLW3tVXsDPn"
      },
      "source": [
        "import file csv from google drive"
      ]
    },
    {
      "cell_type": "code",
      "metadata": {
        "colab": {
          "base_uri": "https://localhost:8080/"
        },
        "id": "np_xxOLgRdJM",
        "outputId": "c633b57c-8911-4df2-d7b4-356eeed23506"
      },
      "source": [
        "!gdown --id 15VXPUzDuYgNyc1NJ6aC7Rnc7tlTfDDEC"
      ],
      "execution_count": null,
      "outputs": [
        {
          "output_type": "stream",
          "text": [
            "Downloading...\n",
            "From: https://drive.google.com/uc?id=15VXPUzDuYgNyc1NJ6aC7Rnc7tlTfDDEC\n",
            "To: /content/vaksinasi_jakarta_mau_ke_csv_1.csv\n",
            "\r  0% 0.00/5.17k [00:00<?, ?B/s]\r100% 5.17k/5.17k [00:00<00:00, 9.14MB/s]\n"
          ],
          "name": "stdout"
        }
      ]
    },
    {
      "cell_type": "markdown",
      "metadata": {
        "id": "WyQlVjRusLon"
      },
      "source": [
        "Load dataset to dataframe using pandas"
      ]
    },
    {
      "cell_type": "code",
      "metadata": {
        "colab": {
          "base_uri": "https://localhost:8080/",
          "height": 235
        },
        "id": "5KwHC-P9Ren-",
        "outputId": "c9e56f6e-9e1a-4fe2-a157-63b92cfd9eea"
      },
      "source": [
        "df = pd.read_csv('vaksinasi_jakarta_mau_ke_csv_1.csv')\n",
        "df.head()"
      ],
      "execution_count": null,
      "outputs": [
        {
          "output_type": "execute_result",
          "data": {
            "text/html": [
              "<div>\n",
              "<style scoped>\n",
              "    .dataframe tbody tr th:only-of-type {\n",
              "        vertical-align: middle;\n",
              "    }\n",
              "\n",
              "    .dataframe tbody tr th {\n",
              "        vertical-align: top;\n",
              "    }\n",
              "\n",
              "    .dataframe thead th {\n",
              "        text-align: right;\n",
              "    }\n",
              "</style>\n",
              "<table border=\"1\" class=\"dataframe\">\n",
              "  <thead>\n",
              "    <tr style=\"text-align: right;\">\n",
              "      <th></th>\n",
              "      <th>Tanggal</th>\n",
              "      <th>Target Vaksinasi Tenaga Kesehatan</th>\n",
              "      <th>Vaksinasi 1 Tenaga Kesehatan</th>\n",
              "      <th>Vaksinasi 2 Tenaga Kesehatan</th>\n",
              "      <th>Target Vaksinasi Lansia</th>\n",
              "      <th>Vaksinasi 1 Lansia</th>\n",
              "      <th>Vaksinasi 2 Lansia</th>\n",
              "      <th>Target Vaksinasi Pelayan Publik</th>\n",
              "      <th>Vaksinasi 1 Pelayan Publik</th>\n",
              "      <th>Vaksinasi 2 Pelayan Publik</th>\n",
              "      <th>Target Vaksinasi Total</th>\n",
              "      <th>Vaksinasi 1 Total</th>\n",
              "      <th>Vaksinasi 2 Total</th>\n",
              "    </tr>\n",
              "  </thead>\n",
              "  <tbody>\n",
              "    <tr>\n",
              "      <th>0</th>\n",
              "      <td>05/03/2021</td>\n",
              "      <td>112301</td>\n",
              "      <td>141425</td>\n",
              "      <td>91078</td>\n",
              "      <td>911631</td>\n",
              "      <td>76451</td>\n",
              "      <td>0</td>\n",
              "      <td>1976757</td>\n",
              "      <td>64121</td>\n",
              "      <td>0</td>\n",
              "      <td>3000689</td>\n",
              "      <td>281997</td>\n",
              "      <td>91078</td>\n",
              "    </tr>\n",
              "    <tr>\n",
              "      <th>1</th>\n",
              "      <td>06/03/2021</td>\n",
              "      <td>112301</td>\n",
              "      <td>144046</td>\n",
              "      <td>91379</td>\n",
              "      <td>911631</td>\n",
              "      <td>79421</td>\n",
              "      <td>0</td>\n",
              "      <td>1976757</td>\n",
              "      <td>66484</td>\n",
              "      <td>0</td>\n",
              "      <td>3000689</td>\n",
              "      <td>289951</td>\n",
              "      <td>91379</td>\n",
              "    </tr>\n",
              "    <tr>\n",
              "      <th>2</th>\n",
              "      <td>07/03/2021</td>\n",
              "      <td>112301</td>\n",
              "      <td>177126</td>\n",
              "      <td>91460</td>\n",
              "      <td>911631</td>\n",
              "      <td>83628</td>\n",
              "      <td>0</td>\n",
              "      <td>1976757</td>\n",
              "      <td>73752</td>\n",
              "      <td>2514</td>\n",
              "      <td>3000689</td>\n",
              "      <td>334506</td>\n",
              "      <td>93974</td>\n",
              "    </tr>\n",
              "    <tr>\n",
              "      <th>3</th>\n",
              "      <td>08/03/2021</td>\n",
              "      <td>112301</td>\n",
              "      <td>181237</td>\n",
              "      <td>92988</td>\n",
              "      <td>911631</td>\n",
              "      <td>95140</td>\n",
              "      <td>1</td>\n",
              "      <td>1976757</td>\n",
              "      <td>85333</td>\n",
              "      <td>3989</td>\n",
              "      <td>3000689</td>\n",
              "      <td>361710</td>\n",
              "      <td>96978</td>\n",
              "    </tr>\n",
              "    <tr>\n",
              "      <th>4</th>\n",
              "      <td>09/03/2021</td>\n",
              "      <td>112301</td>\n",
              "      <td>113326</td>\n",
              "      <td>89984</td>\n",
              "      <td>911631</td>\n",
              "      <td>135128</td>\n",
              "      <td>675</td>\n",
              "      <td>1976757</td>\n",
              "      <td>174685</td>\n",
              "      <td>29195</td>\n",
              "      <td>3000689</td>\n",
              "      <td>423139</td>\n",
              "      <td>119854</td>\n",
              "    </tr>\n",
              "  </tbody>\n",
              "</table>\n",
              "</div>"
            ],
            "text/plain": [
              "      Tanggal  ...  Vaksinasi 2 Total\n",
              "0  05/03/2021  ...              91078\n",
              "1  06/03/2021  ...              91379\n",
              "2  07/03/2021  ...              93974\n",
              "3  08/03/2021  ...              96978\n",
              "4  09/03/2021  ...             119854\n",
              "\n",
              "[5 rows x 13 columns]"
            ]
          },
          "metadata": {
            "tags": []
          },
          "execution_count": 79
        }
      ]
    },
    {
      "cell_type": "code",
      "metadata": {
        "colab": {
          "base_uri": "https://localhost:8080/"
        },
        "id": "8ukZmuKl4CKX",
        "outputId": "9c04d076-5ebf-4ac0-c938-6bb8e654de74"
      },
      "source": [
        "print(df.info())"
      ],
      "execution_count": null,
      "outputs": [
        {
          "output_type": "stream",
          "text": [
            "<class 'pandas.core.frame.DataFrame'>\n",
            "RangeIndex: 51 entries, 0 to 50\n",
            "Data columns (total 13 columns):\n",
            " #   Column                             Non-Null Count  Dtype \n",
            "---  ------                             --------------  ----- \n",
            " 0   Tanggal                            51 non-null     object\n",
            " 1   Target Vaksinasi Tenaga Kesehatan  51 non-null     int64 \n",
            " 2   Vaksinasi 1 Tenaga Kesehatan       51 non-null     int64 \n",
            " 3   Vaksinasi 2 Tenaga Kesehatan       51 non-null     int64 \n",
            " 4   Target Vaksinasi Lansia            51 non-null     int64 \n",
            " 5   Vaksinasi 1 Lansia                 51 non-null     int64 \n",
            " 6   Vaksinasi 2 Lansia                 51 non-null     int64 \n",
            " 7   Target Vaksinasi Pelayan Publik    51 non-null     int64 \n",
            " 8   Vaksinasi 1 Pelayan Publik         51 non-null     int64 \n",
            " 9   Vaksinasi 2 Pelayan Publik         51 non-null     int64 \n",
            " 10  Target Vaksinasi Total             51 non-null     int64 \n",
            " 11  Vaksinasi 1 Total                  51 non-null     int64 \n",
            " 12  Vaksinasi 2 Total                  51 non-null     int64 \n",
            "dtypes: int64(12), object(1)\n",
            "memory usage: 5.3+ KB\n",
            "None\n"
          ],
          "name": "stdout"
        }
      ]
    },
    {
      "cell_type": "markdown",
      "metadata": {
        "id": "JMUXKEoCs36r"
      },
      "source": [
        "using date and vaksinasi 1 total data to be processed"
      ]
    },
    {
      "cell_type": "code",
      "metadata": {
        "colab": {
          "base_uri": "https://localhost:8080/",
          "height": 658
        },
        "id": "EEC-AUHnRhnA",
        "outputId": "b091320a-8b16-4aa6-ae26-0e2181c195f0"
      },
      "source": [
        "df['Tanggal']:  pd.to_datetime(df['Tanggal'], format='%d/%m/%Y')\n",
        "df.set_axis(df['Tanggal'], inplace=True)\n",
        "df.drop(columns=['Target Vaksinasi Tenaga Kesehatan','Vaksinasi 1 Tenaga Kesehatan', 'Vaksinasi 2 Tenaga Kesehatan', 'Target Vaksinasi Lansia', 'Vaksinasi 1 Lansia', 'Vaksinasi 2 Lansia', 'Target Vaksinasi Pelayan Publik', 'Vaksinasi 1 Pelayan Publik', 'Vaksinasi 2 Pelayan Publik', 'Target Vaksinasi Total', 'Vaksinasi 2 Total'], inplace=True)\n",
        "print (df.head())\n",
        "\n",
        "trace_1 = go.Scatter(\n",
        "    x = df['Tanggal'],\n",
        "    y = df['Vaksinasi 1 Total'],\n",
        "    mode = 'lines',\n",
        "    name = 'Data'\n",
        ")\n",
        "\n",
        "layout = go.Layout(\n",
        "    title = \"Data vaksinasi\",\n",
        "    xaxis = {'title' : \"Date\"},\n",
        "    yaxis = {'title' : \"Vaksinasi 1 Total\"}\n",
        ")\n",
        "\n",
        "fig = go.Figure(data=[trace_1], layout=layout)\n",
        "fig.show()"
      ],
      "execution_count": null,
      "outputs": [
        {
          "output_type": "stream",
          "text": [
            "               Tanggal  Vaksinasi 1 Total\n",
            "Tanggal                                  \n",
            "05/03/2021  05/03/2021             281997\n",
            "06/03/2021  06/03/2021             289951\n",
            "07/03/2021  07/03/2021             334506\n",
            "08/03/2021  08/03/2021             361710\n",
            "09/03/2021  09/03/2021             423139\n"
          ],
          "name": "stdout"
        },
        {
          "output_type": "display_data",
          "data": {
            "text/html": [
              "<html>\n",
              "<head><meta charset=\"utf-8\" /></head>\n",
              "<body>\n",
              "    <div>\n",
              "            <script src=\"https://cdnjs.cloudflare.com/ajax/libs/mathjax/2.7.5/MathJax.js?config=TeX-AMS-MML_SVG\"></script><script type=\"text/javascript\">if (window.MathJax) {MathJax.Hub.Config({SVG: {font: \"STIX-Web\"}});}</script>\n",
              "                <script type=\"text/javascript\">window.PlotlyConfig = {MathJaxConfig: 'local'};</script>\n",
              "        <script src=\"https://cdn.plot.ly/plotly-latest.min.js\"></script>    \n",
              "            <div id=\"8bb25dcb-ad53-4524-9c52-29c3cd210dd1\" class=\"plotly-graph-div\" style=\"height:525px; width:100%;\"></div>\n",
              "            <script type=\"text/javascript\">\n",
              "                \n",
              "                    window.PLOTLYENV=window.PLOTLYENV || {};\n",
              "                    \n",
              "                if (document.getElementById(\"8bb25dcb-ad53-4524-9c52-29c3cd210dd1\")) {\n",
              "                    Plotly.newPlot(\n",
              "                        '8bb25dcb-ad53-4524-9c52-29c3cd210dd1',\n",
              "                        [{\"mode\": \"lines\", \"name\": \"Data\", \"type\": \"scatter\", \"x\": [\"05/03/2021\", \"06/03/2021\", \"07/03/2021\", \"08/03/2021\", \"09/03/2021\", \"10/03/2021\", \"11/03/2021\", \"12/03/2021\", \"13/03/2021\", \"14/03/2021\", \"15/03/2021\", \"16/03/2021\", \"17/03/2021\", \"18/03/2021\", \"19/03/2021\", \"20/03/2021\", \"21/03/2021\", \"22/03/2021\", \"23/03/2021\", \"24/03/2021\", \"25/03/2021\", \"26/03/2021\", \"27/03/2021\", \"28/03/2021\", \"29/03/2021\", \"30/03/2021\", \"31/03/2021\", \"01/04/2021\", \"02/04/2021\", \"03/04/2021\", \"04/04/2021\", \"05/04/2021\", \"06/04/2021\", \"07/04/2021\", \"08/04/2021\", \"09/04/2021\", \"10/04/2021\", \"11/04/2021\", \"12/04/2021\", \"13/04/2021\", \"14/04/2021\", \"15/04/2021\", \"16/04/2021\", \"17/04/2021\", \"18/04/2021\", \"19/04/2021\", \"20/04/2021\", \"21/04/2021\", \"22/04/2021\", \"23/04/2021\", \"24/04/2021\"], \"y\": [281997, 289951, 334506, 361710, 423139, 473494, 483492, 519575, 537965, 550088, 599696, 647957, 692365, 734359, 810602, 824569, 846439, 879229, 925387, 997730, 1046483, 1092686, 1121735, 1140388, 1178243, 1220617, 1267378, 1301379, 1325622, 1339471, 1352341, 1387188, 1415143, 1436663, 1475689, 1506706, 1528219, 1537387, 1569019, 1584064, 1598341, 1615457, 1633447, 1641932, 1646295, 1668563, 1687399, 1708066, 1746457, 1770866, 1770866]}],\n",
              "                        {\"template\": {\"data\": {\"bar\": [{\"error_x\": {\"color\": \"#2a3f5f\"}, \"error_y\": {\"color\": \"#2a3f5f\"}, \"marker\": {\"line\": {\"color\": \"#E5ECF6\", \"width\": 0.5}}, \"type\": \"bar\"}], \"barpolar\": [{\"marker\": {\"line\": {\"color\": \"#E5ECF6\", \"width\": 0.5}}, \"type\": \"barpolar\"}], \"carpet\": [{\"aaxis\": {\"endlinecolor\": \"#2a3f5f\", \"gridcolor\": \"white\", \"linecolor\": \"white\", \"minorgridcolor\": \"white\", \"startlinecolor\": \"#2a3f5f\"}, \"baxis\": {\"endlinecolor\": \"#2a3f5f\", \"gridcolor\": \"white\", \"linecolor\": \"white\", \"minorgridcolor\": \"white\", \"startlinecolor\": \"#2a3f5f\"}, \"type\": \"carpet\"}], \"choropleth\": [{\"colorbar\": {\"outlinewidth\": 0, \"ticks\": \"\"}, \"type\": \"choropleth\"}], \"contour\": [{\"colorbar\": {\"outlinewidth\": 0, \"ticks\": \"\"}, \"colorscale\": [[0.0, \"#0d0887\"], [0.1111111111111111, \"#46039f\"], [0.2222222222222222, \"#7201a8\"], [0.3333333333333333, \"#9c179e\"], [0.4444444444444444, \"#bd3786\"], [0.5555555555555556, \"#d8576b\"], [0.6666666666666666, \"#ed7953\"], [0.7777777777777778, \"#fb9f3a\"], [0.8888888888888888, \"#fdca26\"], [1.0, \"#f0f921\"]], \"type\": \"contour\"}], \"contourcarpet\": [{\"colorbar\": {\"outlinewidth\": 0, \"ticks\": \"\"}, \"type\": \"contourcarpet\"}], \"heatmap\": [{\"colorbar\": {\"outlinewidth\": 0, \"ticks\": \"\"}, \"colorscale\": [[0.0, \"#0d0887\"], [0.1111111111111111, \"#46039f\"], [0.2222222222222222, \"#7201a8\"], [0.3333333333333333, \"#9c179e\"], [0.4444444444444444, \"#bd3786\"], [0.5555555555555556, \"#d8576b\"], [0.6666666666666666, \"#ed7953\"], [0.7777777777777778, \"#fb9f3a\"], [0.8888888888888888, \"#fdca26\"], [1.0, \"#f0f921\"]], \"type\": \"heatmap\"}], \"heatmapgl\": [{\"colorbar\": {\"outlinewidth\": 0, \"ticks\": \"\"}, \"colorscale\": [[0.0, \"#0d0887\"], [0.1111111111111111, \"#46039f\"], [0.2222222222222222, \"#7201a8\"], [0.3333333333333333, \"#9c179e\"], [0.4444444444444444, \"#bd3786\"], [0.5555555555555556, \"#d8576b\"], [0.6666666666666666, \"#ed7953\"], [0.7777777777777778, \"#fb9f3a\"], [0.8888888888888888, \"#fdca26\"], [1.0, \"#f0f921\"]], \"type\": \"heatmapgl\"}], \"histogram\": [{\"marker\": {\"colorbar\": {\"outlinewidth\": 0, \"ticks\": \"\"}}, \"type\": \"histogram\"}], \"histogram2d\": [{\"colorbar\": {\"outlinewidth\": 0, \"ticks\": \"\"}, \"colorscale\": [[0.0, \"#0d0887\"], [0.1111111111111111, \"#46039f\"], [0.2222222222222222, \"#7201a8\"], [0.3333333333333333, \"#9c179e\"], [0.4444444444444444, \"#bd3786\"], [0.5555555555555556, \"#d8576b\"], [0.6666666666666666, \"#ed7953\"], [0.7777777777777778, \"#fb9f3a\"], [0.8888888888888888, \"#fdca26\"], [1.0, \"#f0f921\"]], \"type\": \"histogram2d\"}], \"histogram2dcontour\": [{\"colorbar\": {\"outlinewidth\": 0, \"ticks\": \"\"}, \"colorscale\": [[0.0, \"#0d0887\"], [0.1111111111111111, \"#46039f\"], [0.2222222222222222, \"#7201a8\"], [0.3333333333333333, \"#9c179e\"], [0.4444444444444444, \"#bd3786\"], [0.5555555555555556, \"#d8576b\"], [0.6666666666666666, \"#ed7953\"], [0.7777777777777778, \"#fb9f3a\"], [0.8888888888888888, \"#fdca26\"], [1.0, \"#f0f921\"]], \"type\": \"histogram2dcontour\"}], \"mesh3d\": [{\"colorbar\": {\"outlinewidth\": 0, \"ticks\": \"\"}, \"type\": \"mesh3d\"}], \"parcoords\": [{\"line\": {\"colorbar\": {\"outlinewidth\": 0, \"ticks\": \"\"}}, \"type\": \"parcoords\"}], \"pie\": [{\"automargin\": true, \"type\": \"pie\"}], \"scatter\": [{\"marker\": {\"colorbar\": {\"outlinewidth\": 0, \"ticks\": \"\"}}, \"type\": \"scatter\"}], \"scatter3d\": [{\"line\": {\"colorbar\": {\"outlinewidth\": 0, \"ticks\": \"\"}}, \"marker\": {\"colorbar\": {\"outlinewidth\": 0, \"ticks\": \"\"}}, \"type\": \"scatter3d\"}], \"scattercarpet\": [{\"marker\": {\"colorbar\": {\"outlinewidth\": 0, \"ticks\": \"\"}}, \"type\": \"scattercarpet\"}], \"scattergeo\": [{\"marker\": {\"colorbar\": {\"outlinewidth\": 0, \"ticks\": \"\"}}, \"type\": \"scattergeo\"}], \"scattergl\": [{\"marker\": {\"colorbar\": {\"outlinewidth\": 0, \"ticks\": \"\"}}, \"type\": \"scattergl\"}], \"scattermapbox\": [{\"marker\": {\"colorbar\": {\"outlinewidth\": 0, \"ticks\": \"\"}}, \"type\": \"scattermapbox\"}], \"scatterpolar\": [{\"marker\": {\"colorbar\": {\"outlinewidth\": 0, \"ticks\": \"\"}}, \"type\": \"scatterpolar\"}], \"scatterpolargl\": [{\"marker\": {\"colorbar\": {\"outlinewidth\": 0, \"ticks\": \"\"}}, \"type\": \"scatterpolargl\"}], \"scatterternary\": [{\"marker\": {\"colorbar\": {\"outlinewidth\": 0, \"ticks\": \"\"}}, \"type\": \"scatterternary\"}], \"surface\": [{\"colorbar\": {\"outlinewidth\": 0, \"ticks\": \"\"}, \"colorscale\": [[0.0, \"#0d0887\"], [0.1111111111111111, \"#46039f\"], [0.2222222222222222, \"#7201a8\"], [0.3333333333333333, \"#9c179e\"], [0.4444444444444444, \"#bd3786\"], [0.5555555555555556, \"#d8576b\"], [0.6666666666666666, \"#ed7953\"], [0.7777777777777778, \"#fb9f3a\"], [0.8888888888888888, \"#fdca26\"], [1.0, \"#f0f921\"]], \"type\": \"surface\"}], \"table\": [{\"cells\": {\"fill\": {\"color\": \"#EBF0F8\"}, \"line\": {\"color\": \"white\"}}, \"header\": {\"fill\": {\"color\": \"#C8D4E3\"}, \"line\": {\"color\": \"white\"}}, \"type\": \"table\"}]}, \"layout\": {\"annotationdefaults\": {\"arrowcolor\": \"#2a3f5f\", \"arrowhead\": 0, \"arrowwidth\": 1}, \"coloraxis\": {\"colorbar\": {\"outlinewidth\": 0, \"ticks\": \"\"}}, \"colorscale\": {\"diverging\": [[0, \"#8e0152\"], [0.1, \"#c51b7d\"], [0.2, \"#de77ae\"], [0.3, \"#f1b6da\"], [0.4, \"#fde0ef\"], [0.5, \"#f7f7f7\"], [0.6, \"#e6f5d0\"], [0.7, \"#b8e186\"], [0.8, \"#7fbc41\"], [0.9, \"#4d9221\"], [1, \"#276419\"]], \"sequential\": [[0.0, \"#0d0887\"], [0.1111111111111111, \"#46039f\"], [0.2222222222222222, \"#7201a8\"], [0.3333333333333333, \"#9c179e\"], [0.4444444444444444, \"#bd3786\"], [0.5555555555555556, \"#d8576b\"], [0.6666666666666666, \"#ed7953\"], [0.7777777777777778, \"#fb9f3a\"], [0.8888888888888888, \"#fdca26\"], [1.0, \"#f0f921\"]], \"sequentialminus\": [[0.0, \"#0d0887\"], [0.1111111111111111, \"#46039f\"], [0.2222222222222222, \"#7201a8\"], [0.3333333333333333, \"#9c179e\"], [0.4444444444444444, \"#bd3786\"], [0.5555555555555556, \"#d8576b\"], [0.6666666666666666, \"#ed7953\"], [0.7777777777777778, \"#fb9f3a\"], [0.8888888888888888, \"#fdca26\"], [1.0, \"#f0f921\"]]}, \"colorway\": [\"#636efa\", \"#EF553B\", \"#00cc96\", \"#ab63fa\", \"#FFA15A\", \"#19d3f3\", \"#FF6692\", \"#B6E880\", \"#FF97FF\", \"#FECB52\"], \"font\": {\"color\": \"#2a3f5f\"}, \"geo\": {\"bgcolor\": \"white\", \"lakecolor\": \"white\", \"landcolor\": \"#E5ECF6\", \"showlakes\": true, \"showland\": true, \"subunitcolor\": \"white\"}, \"hoverlabel\": {\"align\": \"left\"}, \"hovermode\": \"closest\", \"mapbox\": {\"style\": \"light\"}, \"paper_bgcolor\": \"white\", \"plot_bgcolor\": \"#E5ECF6\", \"polar\": {\"angularaxis\": {\"gridcolor\": \"white\", \"linecolor\": \"white\", \"ticks\": \"\"}, \"bgcolor\": \"#E5ECF6\", \"radialaxis\": {\"gridcolor\": \"white\", \"linecolor\": \"white\", \"ticks\": \"\"}}, \"scene\": {\"xaxis\": {\"backgroundcolor\": \"#E5ECF6\", \"gridcolor\": \"white\", \"gridwidth\": 2, \"linecolor\": \"white\", \"showbackground\": true, \"ticks\": \"\", \"zerolinecolor\": \"white\"}, \"yaxis\": {\"backgroundcolor\": \"#E5ECF6\", \"gridcolor\": \"white\", \"gridwidth\": 2, \"linecolor\": \"white\", \"showbackground\": true, \"ticks\": \"\", \"zerolinecolor\": \"white\"}, \"zaxis\": {\"backgroundcolor\": \"#E5ECF6\", \"gridcolor\": \"white\", \"gridwidth\": 2, \"linecolor\": \"white\", \"showbackground\": true, \"ticks\": \"\", \"zerolinecolor\": \"white\"}}, \"shapedefaults\": {\"line\": {\"color\": \"#2a3f5f\"}}, \"ternary\": {\"aaxis\": {\"gridcolor\": \"white\", \"linecolor\": \"white\", \"ticks\": \"\"}, \"baxis\": {\"gridcolor\": \"white\", \"linecolor\": \"white\", \"ticks\": \"\"}, \"bgcolor\": \"#E5ECF6\", \"caxis\": {\"gridcolor\": \"white\", \"linecolor\": \"white\", \"ticks\": \"\"}}, \"title\": {\"x\": 0.05}, \"xaxis\": {\"automargin\": true, \"gridcolor\": \"white\", \"linecolor\": \"white\", \"ticks\": \"\", \"title\": {\"standoff\": 15}, \"zerolinecolor\": \"white\", \"zerolinewidth\": 2}, \"yaxis\": {\"automargin\": true, \"gridcolor\": \"white\", \"linecolor\": \"white\", \"ticks\": \"\", \"title\": {\"standoff\": 15}, \"zerolinecolor\": \"white\", \"zerolinewidth\": 2}}}, \"title\": {\"text\": \"Data vaksinasi\"}, \"xaxis\": {\"title\": {\"text\": \"Date\"}}, \"yaxis\": {\"title\": {\"text\": \"Vaksinasi 1 Total\"}}},\n",
              "                        {\"responsive\": true}\n",
              "                    ).then(function(){\n",
              "                            \n",
              "var gd = document.getElementById('8bb25dcb-ad53-4524-9c52-29c3cd210dd1');\n",
              "var x = new MutationObserver(function (mutations, observer) {{\n",
              "        var display = window.getComputedStyle(gd).display;\n",
              "        if (!display || display === 'none') {{\n",
              "            console.log([gd, 'removed!']);\n",
              "            Plotly.purge(gd);\n",
              "            observer.disconnect();\n",
              "        }}\n",
              "}});\n",
              "\n",
              "// Listen for the removal of the full notebook cells\n",
              "var notebookContainer = gd.closest('#notebook-container');\n",
              "if (notebookContainer) {{\n",
              "    x.observe(notebookContainer, {childList: true});\n",
              "}}\n",
              "\n",
              "// Listen for the clearing of the current output cell\n",
              "var outputEl = gd.closest('.output');\n",
              "if (outputEl) {{\n",
              "    x.observe(outputEl, {childList: true});\n",
              "}}\n",
              "\n",
              "                        })\n",
              "                };\n",
              "                \n",
              "            </script>\n",
              "        </div>\n",
              "</body>\n",
              "</html>"
            ]
          },
          "metadata": {
            "tags": []
          }
        }
      ]
    },
    {
      "cell_type": "code",
      "metadata": {
        "colab": {
          "base_uri": "https://localhost:8080/"
        },
        "id": "YodTjlhi0-3h",
        "outputId": "4182c02b-ec24-42eb-c809-b4f49d76536e"
      },
      "source": [
        "df.shape"
      ],
      "execution_count": null,
      "outputs": [
        {
          "output_type": "execute_result",
          "data": {
            "text/plain": [
              "(51, 2)"
            ]
          },
          "metadata": {
            "tags": []
          },
          "execution_count": 7
        }
      ]
    },
    {
      "cell_type": "markdown",
      "metadata": {
        "id": "bvUDbydNibIg"
      },
      "source": [
        "using vaksinasi values to training"
      ]
    },
    {
      "cell_type": "code",
      "metadata": {
        "colab": {
          "base_uri": "https://localhost:8080/"
        },
        "id": "jF6Jee2y-YtA",
        "outputId": "ea7a0180-38da-4f08-b6eb-5b0783b54519"
      },
      "source": [
        "Vaksinasi1Total_Data = df['Vaksinasi 1 Total'].values\n",
        "Vaksinasi1Total_Data = Vaksinasi1Total_Data.reshape((-1,1))\n",
        "Vaksinasi1Total_Data"
      ],
      "execution_count": null,
      "outputs": [
        {
          "output_type": "execute_result",
          "data": {
            "text/plain": [
              "array([[ 281997],\n",
              "       [ 289951],\n",
              "       [ 334506],\n",
              "       [ 361710],\n",
              "       [ 423139],\n",
              "       [ 473494],\n",
              "       [ 483492],\n",
              "       [ 519575],\n",
              "       [ 537965],\n",
              "       [ 550088],\n",
              "       [ 599696],\n",
              "       [ 647957],\n",
              "       [ 692365],\n",
              "       [ 734359],\n",
              "       [ 810602],\n",
              "       [ 824569],\n",
              "       [ 846439],\n",
              "       [ 879229],\n",
              "       [ 925387],\n",
              "       [ 997730],\n",
              "       [1046483],\n",
              "       [1092686],\n",
              "       [1121735],\n",
              "       [1140388],\n",
              "       [1178243],\n",
              "       [1220617],\n",
              "       [1267378],\n",
              "       [1301379],\n",
              "       [1325622],\n",
              "       [1339471],\n",
              "       [1352341],\n",
              "       [1387188],\n",
              "       [1415143],\n",
              "       [1436663],\n",
              "       [1475689],\n",
              "       [1506706],\n",
              "       [1528219],\n",
              "       [1537387],\n",
              "       [1569019],\n",
              "       [1584064],\n",
              "       [1598341],\n",
              "       [1615457],\n",
              "       [1633447],\n",
              "       [1641932],\n",
              "       [1646295],\n",
              "       [1668563],\n",
              "       [1687399],\n",
              "       [1708066],\n",
              "       [1746457],\n",
              "       [1770866],\n",
              "       [1770866]])"
            ]
          },
          "metadata": {
            "tags": []
          },
          "execution_count": 82
        }
      ]
    },
    {
      "cell_type": "markdown",
      "metadata": {
        "id": "pEu0inuiiRa-"
      },
      "source": [
        "function to get difference every one day data"
      ]
    },
    {
      "cell_type": "code",
      "metadata": {
        "id": "c4fsWAAGI66C"
      },
      "source": [
        "def delta_time_series(data):\n",
        "    return data[1:]- data[:-1]"
      ],
      "execution_count": null,
      "outputs": []
    },
    {
      "cell_type": "code",
      "metadata": {
        "colab": {
          "base_uri": "https://localhost:8080/"
        },
        "id": "cOKv90eSJDgB",
        "outputId": "12a7df8a-e7ad-4c08-b3a6-5a577e670a15"
      },
      "source": [
        "delta_time_series(Vaksinasi1Total_Data)"
      ],
      "execution_count": null,
      "outputs": [
        {
          "output_type": "execute_result",
          "data": {
            "text/plain": [
              "array([[ 7954],\n",
              "       [44555],\n",
              "       [27204],\n",
              "       [61429],\n",
              "       [50355],\n",
              "       [ 9998],\n",
              "       [36083],\n",
              "       [18390],\n",
              "       [12123],\n",
              "       [49608],\n",
              "       [48261],\n",
              "       [44408],\n",
              "       [41994],\n",
              "       [76243],\n",
              "       [13967],\n",
              "       [21870],\n",
              "       [32790],\n",
              "       [46158],\n",
              "       [72343],\n",
              "       [48753],\n",
              "       [46203],\n",
              "       [29049],\n",
              "       [18653],\n",
              "       [37855],\n",
              "       [42374],\n",
              "       [46761],\n",
              "       [34001],\n",
              "       [24243],\n",
              "       [13849],\n",
              "       [12870],\n",
              "       [34847],\n",
              "       [27955],\n",
              "       [21520],\n",
              "       [39026],\n",
              "       [31017],\n",
              "       [21513],\n",
              "       [ 9168],\n",
              "       [31632],\n",
              "       [15045],\n",
              "       [14277],\n",
              "       [17116],\n",
              "       [17990],\n",
              "       [ 8485],\n",
              "       [ 4363],\n",
              "       [22268],\n",
              "       [18836],\n",
              "       [20667],\n",
              "       [38391],\n",
              "       [24409],\n",
              "       [    0]])"
            ]
          },
          "metadata": {
            "tags": []
          },
          "execution_count": 84
        }
      ]
    },
    {
      "cell_type": "markdown",
      "metadata": {
        "id": "USguGLQ3iXXy"
      },
      "source": [
        "normalize data and split training and test to 80% and 20% of dataset"
      ]
    },
    {
      "cell_type": "code",
      "metadata": {
        "colab": {
          "base_uri": "https://localhost:8080/"
        },
        "id": "Sg1JZoFNSJ9O",
        "outputId": "27595ae1-adc1-47b0-ea82-9b3c3a1ecbd4"
      },
      "source": [
        "dataset = Vaksinasi1Total_Data\n",
        "scaler = MinMaxScaler(feature_range=(0, 1))\n",
        "dataset = scaler.fit_transform(dataset)\n",
        "\n",
        "split_percent = 0.80\n",
        "split = int(split_percent*len(dataset))\n",
        "\n",
        "Vaksinasi1Total_train = dataset[:split]\n",
        "Vaksinasi1Total_test = dataset[split:]\n",
        "\n",
        "date_train = df['Tanggal'][:split]\n",
        "date_test = df['Tanggal'][split:]\n",
        "\n",
        "print(len(Vaksinasi1Total_train))\n",
        "print(len(Vaksinasi1Total_test))"
      ],
      "execution_count": null,
      "outputs": [
        {
          "output_type": "stream",
          "text": [
            "40\n",
            "11\n"
          ],
          "name": "stdout"
        }
      ]
    },
    {
      "cell_type": "markdown",
      "metadata": {
        "id": "e4nALLFvtwjs"
      },
      "source": [
        "training a machine learning model requires the data to be in {features,target} format. so, this will need to convert the given data into this format, using consept of a look back.\n",
        "\n",
        "Look back is the number of previous days data to use, to predict the value for the next day."
      ]
    },
    {
      "cell_type": "code",
      "metadata": {
        "id": "6dwDmYvbSNSk"
      },
      "source": [
        "look_back = 5\n",
        "\n",
        "train_generator = TimeseriesGenerator(Vaksinasi1Total_train, Vaksinasi1Total_train, length=look_back, sampling_rate=1,stride=1,batch_size=5)     \n",
        "test_generator = TimeseriesGenerator(Vaksinasi1Total_test, Vaksinasi1Total_test, length=look_back, sampling_rate=1,stride=1, batch_size=1)\n"
      ],
      "execution_count": null,
      "outputs": []
    },
    {
      "cell_type": "markdown",
      "metadata": {
        "id": "xhnocUB6v0X3"
      },
      "source": [
        "using architecture of LSTM units trained using sgd optimizer and Mean Squared Loss function for 100 epochs. using model.fit_generator() because already created a data generator."
      ]
    },
    {
      "cell_type": "code",
      "metadata": {
        "colab": {
          "base_uri": "https://localhost:8080/"
        },
        "id": "0XfpUO1-SrFu",
        "outputId": "d859dd80-7440-424d-e4da-44be769cb9bf"
      },
      "source": [
        "model = Sequential()\n",
        "model.add(LSTM(4, input_shape=(look_back, 1)))\n",
        "model.add(Dense(1))\n",
        "model.compile(loss='mean_squared_error', optimizer='sgd')\n",
        "model.summary()"
      ],
      "execution_count": null,
      "outputs": [
        {
          "output_type": "stream",
          "text": [
            "Model: \"sequential_3\"\n",
            "_________________________________________________________________\n",
            "Layer (type)                 Output Shape              Param #   \n",
            "=================================================================\n",
            "lstm_3 (LSTM)                (None, 4)                 96        \n",
            "_________________________________________________________________\n",
            "dense_3 (Dense)              (None, 1)                 5         \n",
            "=================================================================\n",
            "Total params: 101\n",
            "Trainable params: 101\n",
            "Non-trainable params: 0\n",
            "_________________________________________________________________\n"
          ],
          "name": "stdout"
        }
      ]
    },
    {
      "cell_type": "code",
      "metadata": {
        "colab": {
          "base_uri": "https://localhost:8080/"
        },
        "id": "-NhIQDzQj9QI",
        "outputId": "c21cd1e7-b7da-4a08-dd4b-18ddec773d04"
      },
      "source": [
        "Start_Train = model.fit_generator(train_generator, epochs=100)"
      ],
      "execution_count": null,
      "outputs": [
        {
          "output_type": "stream",
          "text": [
            "/usr/local/lib/python3.7/dist-packages/keras/engine/training.py:1915: UserWarning:\n",
            "\n",
            "`Model.fit_generator` is deprecated and will be removed in a future version. Please use `Model.fit`, which supports generators.\n",
            "\n"
          ],
          "name": "stderr"
        },
        {
          "output_type": "stream",
          "text": [
            "Epoch 1/100\n",
            "7/7 [==============================] - 4s 33ms/step - loss: 0.1001\n",
            "Epoch 2/100\n",
            "7/7 [==============================] - 0s 35ms/step - loss: 0.0759\n",
            "Epoch 3/100\n",
            "7/7 [==============================] - 0s 43ms/step - loss: 0.0504\n",
            "Epoch 4/100\n",
            "7/7 [==============================] - 0s 34ms/step - loss: 0.0311\n",
            "Epoch 5/100\n",
            "7/7 [==============================] - 0s 33ms/step - loss: 0.0154\n",
            "Epoch 6/100\n",
            "7/7 [==============================] - 0s 35ms/step - loss: 0.0247\n",
            "Epoch 7/100\n",
            "7/7 [==============================] - 0s 39ms/step - loss: 0.0159\n",
            "Epoch 8/100\n",
            "7/7 [==============================] - 0s 33ms/step - loss: 0.0173\n",
            "Epoch 9/100\n",
            "7/7 [==============================] - 0s 39ms/step - loss: 0.0215\n",
            "Epoch 10/100\n",
            "7/7 [==============================] - 0s 37ms/step - loss: 0.0141\n",
            "Epoch 11/100\n",
            "7/7 [==============================] - 0s 35ms/step - loss: 0.0161\n",
            "Epoch 12/100\n",
            "7/7 [==============================] - 0s 34ms/step - loss: 0.0161\n",
            "Epoch 13/100\n",
            "7/7 [==============================] - 0s 36ms/step - loss: 0.0140\n",
            "Epoch 14/100\n",
            "7/7 [==============================] - 0s 36ms/step - loss: 0.0200\n",
            "Epoch 15/100\n",
            "7/7 [==============================] - 0s 35ms/step - loss: 0.0123\n",
            "Epoch 16/100\n",
            "7/7 [==============================] - 0s 41ms/step - loss: 0.0116\n",
            "Epoch 17/100\n",
            "7/7 [==============================] - 0s 35ms/step - loss: 0.0142\n",
            "Epoch 18/100\n",
            "7/7 [==============================] - 0s 32ms/step - loss: 0.0104\n",
            "Epoch 19/100\n",
            "7/7 [==============================] - 0s 34ms/step - loss: 0.0103\n",
            "Epoch 20/100\n",
            "7/7 [==============================] - 0s 38ms/step - loss: 0.0104\n",
            "Epoch 21/100\n",
            "7/7 [==============================] - 0s 36ms/step - loss: 0.0107\n",
            "Epoch 22/100\n",
            "7/7 [==============================] - 0s 35ms/step - loss: 0.0101\n",
            "Epoch 23/100\n",
            "7/7 [==============================] - 0s 39ms/step - loss: 0.0103\n",
            "Epoch 24/100\n",
            "7/7 [==============================] - 0s 33ms/step - loss: 0.0151\n",
            "Epoch 25/100\n",
            "7/7 [==============================] - 0s 32ms/step - loss: 0.0122\n",
            "Epoch 26/100\n",
            "7/7 [==============================] - 0s 34ms/step - loss: 0.0146\n",
            "Epoch 27/100\n",
            "7/7 [==============================] - 0s 34ms/step - loss: 0.0073\n",
            "Epoch 28/100\n",
            "7/7 [==============================] - 0s 34ms/step - loss: 0.0140\n",
            "Epoch 29/100\n",
            "7/7 [==============================] - 0s 35ms/step - loss: 0.0095\n",
            "Epoch 30/100\n",
            "7/7 [==============================] - 0s 34ms/step - loss: 0.0083\n",
            "Epoch 31/100\n",
            "7/7 [==============================] - 0s 36ms/step - loss: 0.0098\n",
            "Epoch 32/100\n",
            "7/7 [==============================] - 0s 35ms/step - loss: 0.0083\n",
            "Epoch 33/100\n",
            "7/7 [==============================] - 0s 32ms/step - loss: 0.0084\n",
            "Epoch 34/100\n",
            "7/7 [==============================] - 0s 38ms/step - loss: 0.0059\n",
            "Epoch 35/100\n",
            "7/7 [==============================] - 0s 33ms/step - loss: 0.0065\n",
            "Epoch 36/100\n",
            "7/7 [==============================] - 0s 36ms/step - loss: 0.0082\n",
            "Epoch 37/100\n",
            "7/7 [==============================] - 0s 38ms/step - loss: 0.0104\n",
            "Epoch 38/100\n",
            "7/7 [==============================] - 0s 37ms/step - loss: 0.0059\n",
            "Epoch 39/100\n",
            "7/7 [==============================] - 0s 35ms/step - loss: 0.0097\n",
            "Epoch 40/100\n",
            "7/7 [==============================] - 0s 33ms/step - loss: 0.0048\n",
            "Epoch 41/100\n",
            "7/7 [==============================] - 0s 34ms/step - loss: 0.0076\n",
            "Epoch 42/100\n",
            "7/7 [==============================] - 0s 34ms/step - loss: 0.0098\n",
            "Epoch 43/100\n",
            "7/7 [==============================] - 0s 35ms/step - loss: 0.0050\n",
            "Epoch 44/100\n",
            "7/7 [==============================] - 0s 35ms/step - loss: 0.0063\n",
            "Epoch 45/100\n",
            "7/7 [==============================] - 0s 36ms/step - loss: 0.0050\n",
            "Epoch 46/100\n",
            "7/7 [==============================] - 0s 35ms/step - loss: 0.0044\n",
            "Epoch 47/100\n",
            "7/7 [==============================] - 0s 32ms/step - loss: 0.0074\n",
            "Epoch 48/100\n",
            "7/7 [==============================] - 0s 35ms/step - loss: 0.0037\n",
            "Epoch 49/100\n",
            "7/7 [==============================] - 0s 33ms/step - loss: 0.0052\n",
            "Epoch 50/100\n",
            "7/7 [==============================] - 0s 32ms/step - loss: 0.0048\n",
            "Epoch 51/100\n",
            "7/7 [==============================] - 0s 36ms/step - loss: 0.0067\n",
            "Epoch 52/100\n",
            "7/7 [==============================] - 0s 36ms/step - loss: 0.0026\n",
            "Epoch 53/100\n",
            "7/7 [==============================] - 0s 33ms/step - loss: 0.0052\n",
            "Epoch 54/100\n",
            "7/7 [==============================] - 0s 36ms/step - loss: 0.0029\n",
            "Epoch 55/100\n",
            "7/7 [==============================] - 0s 36ms/step - loss: 0.0058\n",
            "Epoch 56/100\n",
            "7/7 [==============================] - 0s 34ms/step - loss: 0.0027\n",
            "Epoch 57/100\n",
            "7/7 [==============================] - 0s 36ms/step - loss: 0.0036\n",
            "Epoch 58/100\n",
            "7/7 [==============================] - 0s 36ms/step - loss: 0.0031\n",
            "Epoch 59/100\n",
            "7/7 [==============================] - 0s 36ms/step - loss: 0.0037\n",
            "Epoch 60/100\n",
            "7/7 [==============================] - 0s 43ms/step - loss: 0.0039\n",
            "Epoch 61/100\n",
            "7/7 [==============================] - 0s 33ms/step - loss: 0.0029\n",
            "Epoch 62/100\n",
            "7/7 [==============================] - 0s 33ms/step - loss: 0.0023\n",
            "Epoch 63/100\n",
            "7/7 [==============================] - 0s 34ms/step - loss: 0.0026\n",
            "Epoch 64/100\n",
            "7/7 [==============================] - 0s 37ms/step - loss: 0.0031\n",
            "Epoch 65/100\n",
            "7/7 [==============================] - 0s 38ms/step - loss: 0.0026\n",
            "Epoch 66/100\n",
            "7/7 [==============================] - 0s 39ms/step - loss: 0.0024\n",
            "Epoch 67/100\n",
            "7/7 [==============================] - 0s 36ms/step - loss: 0.0042\n",
            "Epoch 68/100\n",
            "7/7 [==============================] - 0s 40ms/step - loss: 0.0024\n",
            "Epoch 69/100\n",
            "7/7 [==============================] - 0s 38ms/step - loss: 0.0026\n",
            "Epoch 70/100\n",
            "7/7 [==============================] - 0s 34ms/step - loss: 0.0027\n",
            "Epoch 71/100\n",
            "7/7 [==============================] - 0s 36ms/step - loss: 0.0019\n",
            "Epoch 72/100\n",
            "7/7 [==============================] - 0s 33ms/step - loss: 0.0015\n",
            "Epoch 73/100\n",
            "7/7 [==============================] - 0s 37ms/step - loss: 0.0030\n",
            "Epoch 74/100\n",
            "7/7 [==============================] - 0s 36ms/step - loss: 0.0016\n",
            "Epoch 75/100\n",
            "7/7 [==============================] - 0s 34ms/step - loss: 0.0015\n",
            "Epoch 76/100\n",
            "7/7 [==============================] - 0s 35ms/step - loss: 0.0031\n",
            "Epoch 77/100\n",
            "7/7 [==============================] - 0s 36ms/step - loss: 0.0016\n",
            "Epoch 78/100\n",
            "7/7 [==============================] - 0s 34ms/step - loss: 0.0022\n",
            "Epoch 79/100\n",
            "7/7 [==============================] - 0s 36ms/step - loss: 0.0029\n",
            "Epoch 80/100\n",
            "7/7 [==============================] - 0s 34ms/step - loss: 0.0029\n",
            "Epoch 81/100\n",
            "7/7 [==============================] - 0s 33ms/step - loss: 0.0014\n",
            "Epoch 82/100\n",
            "7/7 [==============================] - 0s 38ms/step - loss: 0.0017\n",
            "Epoch 83/100\n",
            "7/7 [==============================] - 0s 36ms/step - loss: 0.0013\n",
            "Epoch 84/100\n",
            "7/7 [==============================] - 0s 37ms/step - loss: 9.4797e-04\n",
            "Epoch 85/100\n",
            "7/7 [==============================] - 0s 39ms/step - loss: 0.0016\n",
            "Epoch 86/100\n",
            "7/7 [==============================] - 0s 37ms/step - loss: 9.1552e-04\n",
            "Epoch 87/100\n",
            "7/7 [==============================] - 0s 35ms/step - loss: 0.0010\n",
            "Epoch 88/100\n",
            "7/7 [==============================] - 0s 37ms/step - loss: 0.0023\n",
            "Epoch 89/100\n",
            "7/7 [==============================] - 0s 36ms/step - loss: 0.0024\n",
            "Epoch 90/100\n",
            "7/7 [==============================] - 0s 33ms/step - loss: 0.0014\n",
            "Epoch 91/100\n",
            "7/7 [==============================] - 0s 32ms/step - loss: 0.0012\n",
            "Epoch 92/100\n",
            "7/7 [==============================] - 0s 36ms/step - loss: 0.0011\n",
            "Epoch 93/100\n",
            "7/7 [==============================] - 0s 41ms/step - loss: 0.0012\n",
            "Epoch 94/100\n",
            "7/7 [==============================] - 0s 36ms/step - loss: 0.0010\n",
            "Epoch 95/100\n",
            "7/7 [==============================] - 0s 38ms/step - loss: 8.5900e-04\n",
            "Epoch 96/100\n",
            "7/7 [==============================] - 0s 35ms/step - loss: 0.0013\n",
            "Epoch 97/100\n",
            "7/7 [==============================] - 0s 32ms/step - loss: 7.9049e-04\n",
            "Epoch 98/100\n",
            "7/7 [==============================] - 0s 33ms/step - loss: 0.0018\n",
            "Epoch 99/100\n",
            "7/7 [==============================] - 0s 33ms/step - loss: 0.0013\n",
            "Epoch 100/100\n",
            "7/7 [==============================] - 0s 45ms/step - loss: 0.0017\n"
          ],
          "name": "stdout"
        }
      ]
    },
    {
      "cell_type": "markdown",
      "metadata": {
        "id": "GO31pbjkixMp"
      },
      "source": [
        "evaluate the model based on loss value"
      ]
    },
    {
      "cell_type": "code",
      "metadata": {
        "colab": {
          "base_uri": "https://localhost:8080/"
        },
        "id": "6ZmltNQBG-YQ",
        "outputId": "da62c928-c778-40b0-87fa-08b846f0bfb1"
      },
      "source": [
        "model.evaluate_generator(test_generator)"
      ],
      "execution_count": null,
      "outputs": [
        {
          "output_type": "stream",
          "text": [
            "/usr/local/lib/python3.7/dist-packages/keras/engine/training.py:1948: UserWarning:\n",
            "\n",
            "`Model.evaluate_generator` is deprecated and will be removed in a future version. Please use `Model.evaluate`, which supports generators.\n",
            "\n"
          ],
          "name": "stderr"
        },
        {
          "output_type": "execute_result",
          "data": {
            "text/plain": [
              "0.01662379503250122"
            ]
          },
          "metadata": {
            "tags": []
          },
          "execution_count": 89
        }
      ]
    },
    {
      "cell_type": "markdown",
      "metadata": {
        "id": "Z__K7Hx4yZBq"
      },
      "source": [
        "completed training, let see if it performed well. testing the model on testing data and see if the prediction and the actual values overlap, then plot it."
      ]
    },
    {
      "cell_type": "code",
      "metadata": {
        "colab": {
          "base_uri": "https://localhost:8080/",
          "height": 542
        },
        "id": "h9JibG9RS1Qc",
        "outputId": "35a5c9d0-a0a1-46ed-a18e-568beea7e14e"
      },
      "source": [
        "prediction = model.predict(test_generator)\n",
        "\n",
        "Vaksinasi1Total_train = Vaksinasi1Total_train.reshape((-1))\n",
        "Vaksinasi1Total_test = Vaksinasi1Total_test.reshape((-1))\n",
        "prediction = prediction.reshape((-1))\n",
        "\n",
        "trace1 = go.Scatter(\n",
        "    x = date_train,\n",
        "    y = Vaksinasi1Total_train *1000000,\n",
        "    mode = 'lines',\n",
        "    name = 'Real Data use to Training'\n",
        ")\n",
        "trace2 = go.Scatter(\n",
        "    x = date_test,\n",
        "    y = prediction*1000000,\n",
        "    mode = 'lines',\n",
        "    name = 'Prediction after Training'\n",
        ")\n",
        "trace3 = go.Scatter(\n",
        "    x = date_test,\n",
        "    y = Vaksinasi1Total_test*1000000,\n",
        "    mode='lines',\n",
        "    name = 'Real Data use to Test as Ground Truth'\n",
        ")\n",
        "layout = go.Layout(\n",
        "    title = \"Predict vaksinasi\",\n",
        "    xaxis = {'title' : \"Date\"},\n",
        "    yaxis = {'title' : \"Vaksinasi 1 Total\"}\n",
        ")\n",
        "fig = go.Figure(data=[trace1, trace2, trace3], layout=layout)\n",
        "fig.show()"
      ],
      "execution_count": null,
      "outputs": [
        {
          "output_type": "display_data",
          "data": {
            "text/html": [
              "<html>\n",
              "<head><meta charset=\"utf-8\" /></head>\n",
              "<body>\n",
              "    <div>\n",
              "            <script src=\"https://cdnjs.cloudflare.com/ajax/libs/mathjax/2.7.5/MathJax.js?config=TeX-AMS-MML_SVG\"></script><script type=\"text/javascript\">if (window.MathJax) {MathJax.Hub.Config({SVG: {font: \"STIX-Web\"}});}</script>\n",
              "                <script type=\"text/javascript\">window.PlotlyConfig = {MathJaxConfig: 'local'};</script>\n",
              "        <script src=\"https://cdn.plot.ly/plotly-latest.min.js\"></script>    \n",
              "            <div id=\"c179232b-9bf4-4e7f-b3d9-41f7514d2f03\" class=\"plotly-graph-div\" style=\"height:525px; width:100%;\"></div>\n",
              "            <script type=\"text/javascript\">\n",
              "                \n",
              "                    window.PLOTLYENV=window.PLOTLYENV || {};\n",
              "                    \n",
              "                if (document.getElementById(\"c179232b-9bf4-4e7f-b3d9-41f7514d2f03\")) {\n",
              "                    Plotly.newPlot(\n",
              "                        'c179232b-9bf4-4e7f-b3d9-41f7514d2f03',\n",
              "                        [{\"mode\": \"lines\", \"name\": \"Real Data use to Training\", \"type\": \"scatter\", \"x\": [\"05/03/2021\", \"06/03/2021\", \"07/03/2021\", \"08/03/2021\", \"09/03/2021\", \"10/03/2021\", \"11/03/2021\", \"12/03/2021\", \"13/03/2021\", \"14/03/2021\", \"15/03/2021\", \"16/03/2021\", \"17/03/2021\", \"18/03/2021\", \"19/03/2021\", \"20/03/2021\", \"21/03/2021\", \"22/03/2021\", \"23/03/2021\", \"24/03/2021\", \"25/03/2021\", \"26/03/2021\", \"27/03/2021\", \"28/03/2021\", \"29/03/2021\", \"30/03/2021\", \"31/03/2021\", \"01/04/2021\", \"02/04/2021\", \"03/04/2021\", \"04/04/2021\", \"05/04/2021\", \"06/04/2021\", \"07/04/2021\", \"08/04/2021\", \"09/04/2021\", \"10/04/2021\", \"11/04/2021\", \"12/04/2021\", \"13/04/2021\"], \"y\": [0.0, 5342.310169665715, 35267.70991940864, 53539.297278672595, 94798.1320048977, 128619.10618059749, 135334.27051003146, 159569.4449948249, 171921.10252816064, 180063.5247291736, 213382.77578484075, 245797.31326261748, 275623.9803501853, 303829.28249563935, 355037.95162636874, 364418.89783453086, 379107.90002344066, 401131.3285453589, 432133.3844683448, 480722.6156229998, 513467.60527621984, 544499.885483545, 564010.6685007211, 576538.9701847511, 601964.3098217506, 630424.8392571812, 661831.900590314, 684668.6981863416, 700951.5276360783, 710253.2190541949, 718897.3643752406, 742302.3785168474, 761078.3755991965, 775532.3000210228, 801744.1427016079, 822576.734420557, 837025.9572870416, 843183.6514831057, 864429.3084213588, 874534.2941521384]}, {\"mode\": \"lines\", \"name\": \"Prediction after Training\", \"type\": \"scatter\", \"x\": [\"14/04/2021\", \"15/04/2021\", \"16/04/2021\", \"17/04/2021\", \"18/04/2021\", \"19/04/2021\", \"20/04/2021\", \"21/04/2021\", \"22/04/2021\", \"23/04/2021\", \"24/04/2021\"], \"y\": [832452.9528617859, 835823.2378959656, 839434.8621368408, 843132.495880127, 847838.2229804993, 853766.5009498596]}, {\"mode\": \"lines\", \"name\": \"Real Data use to Test as Ground Truth\", \"type\": \"scatter\", \"x\": [\"14/04/2021\", \"15/04/2021\", \"16/04/2021\", \"17/04/2021\", \"18/04/2021\", \"19/04/2021\", \"20/04/2021\", \"21/04/2021\", \"22/04/2021\", \"23/04/2021\", \"24/04/2021\"], \"y\": [884123.4520968602, 895619.4265580116, 907702.4237861088, 913401.3805109786, 916331.7927903665, 931288.1119829885, 943939.3257566651, 957820.3320775705, 983605.6765235894, 1000000.0, 1000000.0]}],\n",
              "                        {\"template\": {\"data\": {\"bar\": [{\"error_x\": {\"color\": \"#2a3f5f\"}, \"error_y\": {\"color\": \"#2a3f5f\"}, \"marker\": {\"line\": {\"color\": \"#E5ECF6\", \"width\": 0.5}}, \"type\": \"bar\"}], \"barpolar\": [{\"marker\": {\"line\": {\"color\": \"#E5ECF6\", \"width\": 0.5}}, \"type\": \"barpolar\"}], \"carpet\": [{\"aaxis\": {\"endlinecolor\": \"#2a3f5f\", \"gridcolor\": \"white\", \"linecolor\": \"white\", \"minorgridcolor\": \"white\", \"startlinecolor\": \"#2a3f5f\"}, \"baxis\": {\"endlinecolor\": \"#2a3f5f\", \"gridcolor\": \"white\", \"linecolor\": \"white\", \"minorgridcolor\": \"white\", \"startlinecolor\": \"#2a3f5f\"}, \"type\": \"carpet\"}], \"choropleth\": [{\"colorbar\": {\"outlinewidth\": 0, \"ticks\": \"\"}, \"type\": \"choropleth\"}], \"contour\": [{\"colorbar\": {\"outlinewidth\": 0, \"ticks\": \"\"}, \"colorscale\": [[0.0, \"#0d0887\"], [0.1111111111111111, \"#46039f\"], [0.2222222222222222, \"#7201a8\"], [0.3333333333333333, \"#9c179e\"], [0.4444444444444444, \"#bd3786\"], [0.5555555555555556, \"#d8576b\"], [0.6666666666666666, \"#ed7953\"], [0.7777777777777778, \"#fb9f3a\"], [0.8888888888888888, \"#fdca26\"], [1.0, \"#f0f921\"]], \"type\": \"contour\"}], \"contourcarpet\": [{\"colorbar\": {\"outlinewidth\": 0, \"ticks\": \"\"}, \"type\": \"contourcarpet\"}], \"heatmap\": [{\"colorbar\": {\"outlinewidth\": 0, \"ticks\": \"\"}, \"colorscale\": [[0.0, \"#0d0887\"], [0.1111111111111111, \"#46039f\"], [0.2222222222222222, \"#7201a8\"], [0.3333333333333333, \"#9c179e\"], [0.4444444444444444, \"#bd3786\"], [0.5555555555555556, \"#d8576b\"], [0.6666666666666666, \"#ed7953\"], [0.7777777777777778, \"#fb9f3a\"], [0.8888888888888888, \"#fdca26\"], [1.0, \"#f0f921\"]], \"type\": \"heatmap\"}], \"heatmapgl\": [{\"colorbar\": {\"outlinewidth\": 0, \"ticks\": \"\"}, \"colorscale\": [[0.0, \"#0d0887\"], [0.1111111111111111, \"#46039f\"], [0.2222222222222222, \"#7201a8\"], [0.3333333333333333, \"#9c179e\"], [0.4444444444444444, \"#bd3786\"], [0.5555555555555556, \"#d8576b\"], [0.6666666666666666, \"#ed7953\"], [0.7777777777777778, \"#fb9f3a\"], [0.8888888888888888, \"#fdca26\"], [1.0, \"#f0f921\"]], \"type\": \"heatmapgl\"}], \"histogram\": [{\"marker\": {\"colorbar\": {\"outlinewidth\": 0, \"ticks\": \"\"}}, \"type\": \"histogram\"}], \"histogram2d\": [{\"colorbar\": {\"outlinewidth\": 0, \"ticks\": \"\"}, \"colorscale\": [[0.0, \"#0d0887\"], [0.1111111111111111, \"#46039f\"], [0.2222222222222222, \"#7201a8\"], [0.3333333333333333, \"#9c179e\"], [0.4444444444444444, \"#bd3786\"], [0.5555555555555556, \"#d8576b\"], [0.6666666666666666, \"#ed7953\"], [0.7777777777777778, \"#fb9f3a\"], [0.8888888888888888, \"#fdca26\"], [1.0, \"#f0f921\"]], \"type\": \"histogram2d\"}], \"histogram2dcontour\": [{\"colorbar\": {\"outlinewidth\": 0, \"ticks\": \"\"}, \"colorscale\": [[0.0, \"#0d0887\"], [0.1111111111111111, \"#46039f\"], [0.2222222222222222, \"#7201a8\"], [0.3333333333333333, \"#9c179e\"], [0.4444444444444444, \"#bd3786\"], [0.5555555555555556, \"#d8576b\"], [0.6666666666666666, \"#ed7953\"], [0.7777777777777778, \"#fb9f3a\"], [0.8888888888888888, \"#fdca26\"], [1.0, \"#f0f921\"]], \"type\": \"histogram2dcontour\"}], \"mesh3d\": [{\"colorbar\": {\"outlinewidth\": 0, \"ticks\": \"\"}, \"type\": \"mesh3d\"}], \"parcoords\": [{\"line\": {\"colorbar\": {\"outlinewidth\": 0, \"ticks\": \"\"}}, \"type\": \"parcoords\"}], \"pie\": [{\"automargin\": true, \"type\": \"pie\"}], \"scatter\": [{\"marker\": {\"colorbar\": {\"outlinewidth\": 0, \"ticks\": \"\"}}, \"type\": \"scatter\"}], \"scatter3d\": [{\"line\": {\"colorbar\": {\"outlinewidth\": 0, \"ticks\": \"\"}}, \"marker\": {\"colorbar\": {\"outlinewidth\": 0, \"ticks\": \"\"}}, \"type\": \"scatter3d\"}], \"scattercarpet\": [{\"marker\": {\"colorbar\": {\"outlinewidth\": 0, \"ticks\": \"\"}}, \"type\": \"scattercarpet\"}], \"scattergeo\": [{\"marker\": {\"colorbar\": {\"outlinewidth\": 0, \"ticks\": \"\"}}, \"type\": \"scattergeo\"}], \"scattergl\": [{\"marker\": {\"colorbar\": {\"outlinewidth\": 0, \"ticks\": \"\"}}, \"type\": \"scattergl\"}], \"scattermapbox\": [{\"marker\": {\"colorbar\": {\"outlinewidth\": 0, \"ticks\": \"\"}}, \"type\": \"scattermapbox\"}], \"scatterpolar\": [{\"marker\": {\"colorbar\": {\"outlinewidth\": 0, \"ticks\": \"\"}}, \"type\": \"scatterpolar\"}], \"scatterpolargl\": [{\"marker\": {\"colorbar\": {\"outlinewidth\": 0, \"ticks\": \"\"}}, \"type\": \"scatterpolargl\"}], \"scatterternary\": [{\"marker\": {\"colorbar\": {\"outlinewidth\": 0, \"ticks\": \"\"}}, \"type\": \"scatterternary\"}], \"surface\": [{\"colorbar\": {\"outlinewidth\": 0, \"ticks\": \"\"}, \"colorscale\": [[0.0, \"#0d0887\"], [0.1111111111111111, \"#46039f\"], [0.2222222222222222, \"#7201a8\"], [0.3333333333333333, \"#9c179e\"], [0.4444444444444444, \"#bd3786\"], [0.5555555555555556, \"#d8576b\"], [0.6666666666666666, \"#ed7953\"], [0.7777777777777778, \"#fb9f3a\"], [0.8888888888888888, \"#fdca26\"], [1.0, \"#f0f921\"]], \"type\": \"surface\"}], \"table\": [{\"cells\": {\"fill\": {\"color\": \"#EBF0F8\"}, \"line\": {\"color\": \"white\"}}, \"header\": {\"fill\": {\"color\": \"#C8D4E3\"}, \"line\": {\"color\": \"white\"}}, \"type\": \"table\"}]}, \"layout\": {\"annotationdefaults\": {\"arrowcolor\": \"#2a3f5f\", \"arrowhead\": 0, \"arrowwidth\": 1}, \"coloraxis\": {\"colorbar\": {\"outlinewidth\": 0, \"ticks\": \"\"}}, \"colorscale\": {\"diverging\": [[0, \"#8e0152\"], [0.1, \"#c51b7d\"], [0.2, \"#de77ae\"], [0.3, \"#f1b6da\"], [0.4, \"#fde0ef\"], [0.5, \"#f7f7f7\"], [0.6, \"#e6f5d0\"], [0.7, \"#b8e186\"], [0.8, \"#7fbc41\"], [0.9, \"#4d9221\"], [1, \"#276419\"]], \"sequential\": [[0.0, \"#0d0887\"], [0.1111111111111111, \"#46039f\"], [0.2222222222222222, \"#7201a8\"], [0.3333333333333333, \"#9c179e\"], [0.4444444444444444, \"#bd3786\"], [0.5555555555555556, \"#d8576b\"], [0.6666666666666666, \"#ed7953\"], [0.7777777777777778, \"#fb9f3a\"], [0.8888888888888888, \"#fdca26\"], [1.0, \"#f0f921\"]], \"sequentialminus\": [[0.0, \"#0d0887\"], [0.1111111111111111, \"#46039f\"], [0.2222222222222222, \"#7201a8\"], [0.3333333333333333, \"#9c179e\"], [0.4444444444444444, \"#bd3786\"], [0.5555555555555556, \"#d8576b\"], [0.6666666666666666, \"#ed7953\"], [0.7777777777777778, \"#fb9f3a\"], [0.8888888888888888, \"#fdca26\"], [1.0, \"#f0f921\"]]}, \"colorway\": [\"#636efa\", \"#EF553B\", \"#00cc96\", \"#ab63fa\", \"#FFA15A\", \"#19d3f3\", \"#FF6692\", \"#B6E880\", \"#FF97FF\", \"#FECB52\"], \"font\": {\"color\": \"#2a3f5f\"}, \"geo\": {\"bgcolor\": \"white\", \"lakecolor\": \"white\", \"landcolor\": \"#E5ECF6\", \"showlakes\": true, \"showland\": true, \"subunitcolor\": \"white\"}, \"hoverlabel\": {\"align\": \"left\"}, \"hovermode\": \"closest\", \"mapbox\": {\"style\": \"light\"}, \"paper_bgcolor\": \"white\", \"plot_bgcolor\": \"#E5ECF6\", \"polar\": {\"angularaxis\": {\"gridcolor\": \"white\", \"linecolor\": \"white\", \"ticks\": \"\"}, \"bgcolor\": \"#E5ECF6\", \"radialaxis\": {\"gridcolor\": \"white\", \"linecolor\": \"white\", \"ticks\": \"\"}}, \"scene\": {\"xaxis\": {\"backgroundcolor\": \"#E5ECF6\", \"gridcolor\": \"white\", \"gridwidth\": 2, \"linecolor\": \"white\", \"showbackground\": true, \"ticks\": \"\", \"zerolinecolor\": \"white\"}, \"yaxis\": {\"backgroundcolor\": \"#E5ECF6\", \"gridcolor\": \"white\", \"gridwidth\": 2, \"linecolor\": \"white\", \"showbackground\": true, \"ticks\": \"\", \"zerolinecolor\": \"white\"}, \"zaxis\": {\"backgroundcolor\": \"#E5ECF6\", \"gridcolor\": \"white\", \"gridwidth\": 2, \"linecolor\": \"white\", \"showbackground\": true, \"ticks\": \"\", \"zerolinecolor\": \"white\"}}, \"shapedefaults\": {\"line\": {\"color\": \"#2a3f5f\"}}, \"ternary\": {\"aaxis\": {\"gridcolor\": \"white\", \"linecolor\": \"white\", \"ticks\": \"\"}, \"baxis\": {\"gridcolor\": \"white\", \"linecolor\": \"white\", \"ticks\": \"\"}, \"bgcolor\": \"#E5ECF6\", \"caxis\": {\"gridcolor\": \"white\", \"linecolor\": \"white\", \"ticks\": \"\"}}, \"title\": {\"x\": 0.05}, \"xaxis\": {\"automargin\": true, \"gridcolor\": \"white\", \"linecolor\": \"white\", \"ticks\": \"\", \"title\": {\"standoff\": 15}, \"zerolinecolor\": \"white\", \"zerolinewidth\": 2}, \"yaxis\": {\"automargin\": true, \"gridcolor\": \"white\", \"linecolor\": \"white\", \"ticks\": \"\", \"title\": {\"standoff\": 15}, \"zerolinecolor\": \"white\", \"zerolinewidth\": 2}}}, \"title\": {\"text\": \"Predict vaksinasi\"}, \"xaxis\": {\"title\": {\"text\": \"Date\"}}, \"yaxis\": {\"title\": {\"text\": \"Vaksinasi 1 Total\"}}},\n",
              "                        {\"responsive\": true}\n",
              "                    ).then(function(){\n",
              "                            \n",
              "var gd = document.getElementById('c179232b-9bf4-4e7f-b3d9-41f7514d2f03');\n",
              "var x = new MutationObserver(function (mutations, observer) {{\n",
              "        var display = window.getComputedStyle(gd).display;\n",
              "        if (!display || display === 'none') {{\n",
              "            console.log([gd, 'removed!']);\n",
              "            Plotly.purge(gd);\n",
              "            observer.disconnect();\n",
              "        }}\n",
              "}});\n",
              "\n",
              "// Listen for the removal of the full notebook cells\n",
              "var notebookContainer = gd.closest('#notebook-container');\n",
              "if (notebookContainer) {{\n",
              "    x.observe(notebookContainer, {childList: true});\n",
              "}}\n",
              "\n",
              "// Listen for the clearing of the current output cell\n",
              "var outputEl = gd.closest('.output');\n",
              "if (outputEl) {{\n",
              "    x.observe(outputEl, {childList: true});\n",
              "}}\n",
              "\n",
              "                        })\n",
              "                };\n",
              "                \n",
              "            </script>\n",
              "        </div>\n",
              "</body>\n",
              "</html>"
            ]
          },
          "metadata": {
            "tags": []
          }
        }
      ]
    },
    {
      "cell_type": "markdown",
      "metadata": {
        "id": "SzEA_cNkSecN"
      },
      "source": [
        "save as json"
      ]
    },
    {
      "cell_type": "code",
      "metadata": {
        "colab": {
          "base_uri": "https://localhost:8080/"
        },
        "id": "HIsdErEPPRGm",
        "outputId": "74de8634-aa1b-4bea-b5f5-929b573ba247"
      },
      "source": [
        "pred= []\n",
        "datelist= []\n",
        "\n",
        "prediction[0]\n",
        "for x in range(prediction.size):\n",
        "  datelist.append(date_test[x])\n",
        "  pred.append(int(prediction[x]*1000000))\n",
        "\n",
        "prediksi = {'Tanggal': datelist, 'prediction': pred}\n",
        "\n",
        "## convert your array into a dataframe\n",
        "df_save_jason_prediction = pd.DataFrame(prediksi, columns = ['Tanggal', 'prediction'])\n",
        "print(df_save_jason_prediction)\n",
        "\n",
        "#save as json\n",
        "df_save_jason_prediction.to_json(r'Data Hasil Prediksi ada tanggal fix.json')"
      ],
      "execution_count": null,
      "outputs": [
        {
          "output_type": "stream",
          "text": [
            "      Tanggal  prediction\n",
            "0  14/04/2021      832452\n",
            "1  15/04/2021      835823\n",
            "2  16/04/2021      839434\n",
            "3  17/04/2021      843132\n",
            "4  18/04/2021      847838\n",
            "5  19/04/2021      853766\n"
          ],
          "name": "stdout"
        }
      ]
    },
    {
      "cell_type": "code",
      "metadata": {
        "colab": {
          "base_uri": "https://localhost:8080/"
        },
        "id": "61-yqiBFQIHn",
        "outputId": "119624d4-2615-4c43-aa23-a0250e3f5243"
      },
      "source": [
        "train= []\n",
        "datelist= []\n",
        "\n",
        "Vaksinasi1Total_train[0]\n",
        "for x in range(Vaksinasi1Total_train.size):\n",
        "  datelist.append(date_train[x])\n",
        "  train.append(int(Vaksinasi1Total_train[x]*1000000))\n",
        "\n",
        "prediksi = {'Tanggal': datelist, 'training': train}\n",
        "\n",
        "## convert your array into a dataframe\n",
        "df_save_jason_train = pd.DataFrame(prediksi, columns = ['Tanggal', 'training'])\n",
        "print(df_save_jason_train)\n",
        "\n",
        "#save as json\n",
        "df_save_jason_train.to_json(r'Data yang digunakan untuk Training ada tanggal fix.json')"
      ],
      "execution_count": null,
      "outputs": [
        {
          "output_type": "stream",
          "text": [
            "       Tanggal  training\n",
            "0   05/03/2021         0\n",
            "1   06/03/2021      5342\n",
            "2   07/03/2021     35267\n",
            "3   08/03/2021     53539\n",
            "4   09/03/2021     94798\n",
            "5   10/03/2021    128619\n",
            "6   11/03/2021    135334\n",
            "7   12/03/2021    159569\n",
            "8   13/03/2021    171921\n",
            "9   14/03/2021    180063\n",
            "10  15/03/2021    213382\n",
            "11  16/03/2021    245797\n",
            "12  17/03/2021    275623\n",
            "13  18/03/2021    303829\n",
            "14  19/03/2021    355037\n",
            "15  20/03/2021    364418\n",
            "16  21/03/2021    379107\n",
            "17  22/03/2021    401131\n",
            "18  23/03/2021    432133\n",
            "19  24/03/2021    480722\n",
            "20  25/03/2021    513467\n",
            "21  26/03/2021    544499\n",
            "22  27/03/2021    564010\n",
            "23  28/03/2021    576538\n",
            "24  29/03/2021    601964\n",
            "25  30/03/2021    630424\n",
            "26  31/03/2021    661831\n",
            "27  01/04/2021    684668\n",
            "28  02/04/2021    700951\n",
            "29  03/04/2021    710253\n",
            "30  04/04/2021    718897\n",
            "31  05/04/2021    742302\n",
            "32  06/04/2021    761078\n",
            "33  07/04/2021    775532\n",
            "34  08/04/2021    801744\n",
            "35  09/04/2021    822576\n",
            "36  10/04/2021    837025\n",
            "37  11/04/2021    843183\n",
            "38  12/04/2021    864429\n",
            "39  13/04/2021    874534\n"
          ],
          "name": "stdout"
        }
      ]
    },
    {
      "cell_type": "code",
      "metadata": {
        "colab": {
          "base_uri": "https://localhost:8080/"
        },
        "id": "RNszKFbZSbvd",
        "outputId": "f98cfb21-fbcc-44ea-a07a-425364b9ade0"
      },
      "source": [
        "test= []\n",
        "datelist= []\n",
        "\n",
        "Vaksinasi1Total_test[0]\n",
        "for x in range(Vaksinasi1Total_test.size):\n",
        "  datelist.append(date_test[x])\n",
        "  test.append(int(Vaksinasi1Total_test[x]*1000000))\n",
        "\n",
        "prediksi = {'Tanggal': datelist, 'test': test}\n",
        "\n",
        "## convert your array into a dataframe\n",
        "df_save_jason_test = pd.DataFrame(prediksi, columns = ['Tanggal', 'test'])\n",
        "print(df_save_jason_test)\n",
        "\n",
        "#save as json\n",
        "df_save_jason_test.to_json(r'Data yang digunakan untuk test ada tanggal fix.json')"
      ],
      "execution_count": null,
      "outputs": [
        {
          "output_type": "stream",
          "text": [
            "       Tanggal     test\n",
            "0   14/04/2021   884123\n",
            "1   15/04/2021   895619\n",
            "2   16/04/2021   907702\n",
            "3   17/04/2021   913401\n",
            "4   18/04/2021   916331\n",
            "5   19/04/2021   931288\n",
            "6   20/04/2021   943939\n",
            "7   21/04/2021   957820\n",
            "8   22/04/2021   983605\n",
            "9   23/04/2021  1000000\n",
            "10  24/04/2021  1000000\n"
          ],
          "name": "stdout"
        }
      ]
    },
    {
      "cell_type": "markdown",
      "metadata": {
        "id": "cNQ_YIebi2eI"
      },
      "source": [
        "save as excel file"
      ]
    },
    {
      "cell_type": "code",
      "metadata": {
        "id": "3jaWQsjTdjPt"
      },
      "source": [
        "Vaksinasi1Total_train\n",
        "reshaped_Train = Vaksinasi1Total_train.reshape((-1,1))\n",
        "\n",
        "## convert your array into a dataframe\n",
        "df_save_exel_Train = pd.DataFrame (reshaped_Train)\n",
        "\n",
        "## save to xlsx file\n",
        "\n",
        "filepath = 'Data yang digunakan untuk Training.xlsx'\n",
        "\n",
        "df_save_exel_Train.to_excel(filepath, index=False)"
      ],
      "execution_count": null,
      "outputs": []
    },
    {
      "cell_type": "code",
      "metadata": {
        "id": "-VWKyX8EdlaW"
      },
      "source": [
        "prediction\n",
        "reshaped_prediction = prediction.reshape((-1,1))\n",
        "\n",
        "## convert your array into a dataframe\n",
        "df_save_exel_prediction = pd.DataFrame (reshaped_prediction)\n",
        "\n",
        "## save to xlsx file\n",
        "\n",
        "filepath = 'Data Hasil Prediksi.xlsx'\n",
        "\n",
        "df_save_exel_prediction.to_excel(filepath, index=False)"
      ],
      "execution_count": null,
      "outputs": []
    },
    {
      "cell_type": "code",
      "metadata": {
        "id": "1g-S3RMedo-w"
      },
      "source": [
        "Vaksinasi1Total_test\n",
        "reshaped_Test = Vaksinasi1Total_test.reshape((-1,1))\n",
        "\n",
        "## convert your array into a dataframe\n",
        "df_save_exel_Test = pd.DataFrame (reshaped_Test)\n",
        "\n",
        "## save to xlsx file\n",
        "\n",
        "filepath = 'Data yang digunakan untuk Test hasil Training.xlsx'\n",
        "\n",
        "df_save_exel_Test.to_excel(filepath, index=False)"
      ],
      "execution_count": null,
      "outputs": []
    },
    {
      "cell_type": "markdown",
      "metadata": {
        "id": "F40m5GzMi5V8"
      },
      "source": [
        "save model to h5"
      ]
    },
    {
      "cell_type": "code",
      "metadata": {
        "id": "7Jf-YAudiCQY"
      },
      "source": [
        "model.save(\"Predict_vakccination.h5\")"
      ],
      "execution_count": null,
      "outputs": []
    }
  ]
}