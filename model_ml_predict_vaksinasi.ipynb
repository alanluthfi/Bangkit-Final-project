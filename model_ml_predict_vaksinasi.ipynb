{
  "nbformat": 4,
  "nbformat_minor": 0,
  "metadata": {
    "colab": {
      "name": "model ml predict vaksinasi.ipynb",
      "provenance": [],
      "collapsed_sections": []
    },
    "kernelspec": {
      "name": "python3",
      "display_name": "Python 3"
    },
    "language_info": {
      "name": "python"
    },
    "accelerator": "GPU"
  },
  "cells": [
    {
      "cell_type": "markdown",
      "metadata": {
        "id": "PYSQQLDvPsyC"
      },
      "source": [
        "Download Datset from google drive"
      ]
    },
    {
      "cell_type": "code",
      "metadata": {
        "colab": {
          "base_uri": "https://localhost:8080/"
        },
        "id": "i36AeI-T6Yzw",
        "outputId": "3a7c6465-32fb-4eb7-dd64-82d997b95aac"
      },
      "source": [
        "!gdown --id 15VXPUzDuYgNyc1NJ6aC7Rnc7tlTfDDEC"
      ],
      "execution_count": 36,
      "outputs": [
        {
          "output_type": "stream",
          "text": [
            "Downloading...\n",
            "From: https://drive.google.com/uc?id=15VXPUzDuYgNyc1NJ6aC7Rnc7tlTfDDEC\n",
            "To: /content/vaksinasi_jakarta_mau_ke_csv_1.csv\n",
            "\r  0% 0.00/5.17k [00:00<?, ?B/s]\r100% 5.17k/5.17k [00:00<00:00, 7.93MB/s]\n"
          ],
          "name": "stdout"
        }
      ]
    },
    {
      "cell_type": "markdown",
      "metadata": {
        "id": "VUhvtsgzPxVy"
      },
      "source": [
        "import all library needed"
      ]
    },
    {
      "cell_type": "code",
      "metadata": {
        "id": "EdVgeEhb6VWR"
      },
      "source": [
        "import numpy as np\n",
        "import matplotlib.pyplot as plt\n",
        "from pandas import read_csv\n",
        "import math\n",
        "from keras.preprocessing.sequence import TimeseriesGenerator\n",
        "from keras.models import Sequential\n",
        "from keras.layers import Dense\n",
        "from keras.layers import LSTM\n",
        "from sklearn.preprocessing import MinMaxScaler\n",
        "from sklearn.metrics import mean_squared_error"
      ],
      "execution_count": 37,
      "outputs": []
    },
    {
      "cell_type": "markdown",
      "metadata": {
        "id": "9lp8kOoFPzi5"
      },
      "source": [
        "load dataset csv use \"total vaksinasi 1\""
      ]
    },
    {
      "cell_type": "code",
      "metadata": {
        "id": "EpNP0hEt6adh"
      },
      "source": [
        "dataset_JKT = read_csv('/content/vaksinasi_jakarta_mau_ke_csv_1.csv', usecols=[11]).values.astype('int')"
      ],
      "execution_count": 38,
      "outputs": []
    },
    {
      "cell_type": "code",
      "metadata": {
        "id": "Qe-nUzR_8MxM",
        "colab": {
          "base_uri": "https://localhost:8080/"
        },
        "outputId": "1696a290-acf8-43db-d299-083919c420a4"
      },
      "source": [
        "dataset_JKT"
      ],
      "execution_count": 39,
      "outputs": [
        {
          "output_type": "execute_result",
          "data": {
            "text/plain": [
              "array([[ 281997],\n",
              "       [ 289951],\n",
              "       [ 334506],\n",
              "       [ 361710],\n",
              "       [ 423139],\n",
              "       [ 473494],\n",
              "       [ 483492],\n",
              "       [ 519575],\n",
              "       [ 537965],\n",
              "       [ 550088],\n",
              "       [ 599696],\n",
              "       [ 647957],\n",
              "       [ 692365],\n",
              "       [ 734359],\n",
              "       [ 810602],\n",
              "       [ 824569],\n",
              "       [ 846439],\n",
              "       [ 879229],\n",
              "       [ 925387],\n",
              "       [ 997730],\n",
              "       [1046483],\n",
              "       [1092686],\n",
              "       [1121735],\n",
              "       [1140388],\n",
              "       [1178243],\n",
              "       [1220617],\n",
              "       [1267378],\n",
              "       [1301379],\n",
              "       [1325622],\n",
              "       [1339471],\n",
              "       [1352341],\n",
              "       [1387188],\n",
              "       [1415143],\n",
              "       [1436663],\n",
              "       [1475689],\n",
              "       [1506706],\n",
              "       [1528219],\n",
              "       [1537387],\n",
              "       [1569019],\n",
              "       [1584064],\n",
              "       [1598341],\n",
              "       [1615457],\n",
              "       [1633447],\n",
              "       [1641932],\n",
              "       [1646295],\n",
              "       [1668563],\n",
              "       [1687399],\n",
              "       [1708066],\n",
              "       [1746457],\n",
              "       [1770866],\n",
              "       [1770866]])"
            ]
          },
          "metadata": {
            "tags": []
          },
          "execution_count": 39
        }
      ]
    },
    {
      "cell_type": "code",
      "metadata": {
        "colab": {
          "base_uri": "https://localhost:8080/"
        },
        "id": "JZwzGs3cNTmN",
        "outputId": "05c3962d-bd8c-46f3-ed2c-98d933e2455c"
      },
      "source": [
        "dataset_JKT.shape"
      ],
      "execution_count": 40,
      "outputs": [
        {
          "output_type": "execute_result",
          "data": {
            "text/plain": [
              "(51, 1)"
            ]
          },
          "metadata": {
            "tags": []
          },
          "execution_count": 40
        }
      ]
    },
    {
      "cell_type": "markdown",
      "metadata": {
        "id": "IlxRIpCrP3kQ"
      },
      "source": [
        "function to get difference data from next day to day before it, to see changes every one day"
      ]
    },
    {
      "cell_type": "code",
      "metadata": {
        "id": "PX3yK12uIaMk"
      },
      "source": [
        "def delta_time_series(data):\n",
        "    return data[1:]- data[:-1]"
      ],
      "execution_count": 41,
      "outputs": []
    },
    {
      "cell_type": "code",
      "metadata": {
        "id": "YWOCuWNwNWjC"
      },
      "source": [
        "dataset_delta_JKT = delta_time_series(dataset_JKT)"
      ],
      "execution_count": 42,
      "outputs": []
    },
    {
      "cell_type": "code",
      "metadata": {
        "colab": {
          "base_uri": "https://localhost:8080/"
        },
        "id": "HlrinZc10zyj",
        "outputId": "47cb5f75-1f7f-4783-9f58-7e3f63015b22"
      },
      "source": [
        "dataset_delta_JKT"
      ],
      "execution_count": 43,
      "outputs": [
        {
          "output_type": "execute_result",
          "data": {
            "text/plain": [
              "array([[ 7954],\n",
              "       [44555],\n",
              "       [27204],\n",
              "       [61429],\n",
              "       [50355],\n",
              "       [ 9998],\n",
              "       [36083],\n",
              "       [18390],\n",
              "       [12123],\n",
              "       [49608],\n",
              "       [48261],\n",
              "       [44408],\n",
              "       [41994],\n",
              "       [76243],\n",
              "       [13967],\n",
              "       [21870],\n",
              "       [32790],\n",
              "       [46158],\n",
              "       [72343],\n",
              "       [48753],\n",
              "       [46203],\n",
              "       [29049],\n",
              "       [18653],\n",
              "       [37855],\n",
              "       [42374],\n",
              "       [46761],\n",
              "       [34001],\n",
              "       [24243],\n",
              "       [13849],\n",
              "       [12870],\n",
              "       [34847],\n",
              "       [27955],\n",
              "       [21520],\n",
              "       [39026],\n",
              "       [31017],\n",
              "       [21513],\n",
              "       [ 9168],\n",
              "       [31632],\n",
              "       [15045],\n",
              "       [14277],\n",
              "       [17116],\n",
              "       [17990],\n",
              "       [ 8485],\n",
              "       [ 4363],\n",
              "       [22268],\n",
              "       [18836],\n",
              "       [20667],\n",
              "       [38391],\n",
              "       [24409],\n",
              "       [    0]])"
            ]
          },
          "metadata": {
            "tags": []
          },
          "execution_count": 43
        }
      ]
    },
    {
      "cell_type": "code",
      "metadata": {
        "id": "KR_bv3xP0vXj",
        "colab": {
          "base_uri": "https://localhost:8080/"
        },
        "outputId": "e63c777a-92fa-4bc9-c68e-9df619c735a0"
      },
      "source": [
        "dataset_delta_JKT.shape"
      ],
      "execution_count": 44,
      "outputs": [
        {
          "output_type": "execute_result",
          "data": {
            "text/plain": [
              "(50, 1)"
            ]
          },
          "metadata": {
            "tags": []
          },
          "execution_count": 44
        }
      ]
    },
    {
      "cell_type": "code",
      "metadata": {
        "id": "SGcp5nu701Yi"
      },
      "source": [
        "def plot_delta(data):\n",
        "    plt.plot(delta_time_series(data))\n",
        "    plt.ylabel('Vaksinasi Total 1')\n",
        "    plt.show()"
      ],
      "execution_count": 45,
      "outputs": []
    },
    {
      "cell_type": "code",
      "metadata": {
        "colab": {
          "base_uri": "https://localhost:8080/",
          "height": 268
        },
        "id": "A_0_v6NS03n8",
        "outputId": "a1ced3a6-d7b8-46b2-f3cb-bafd55aaa0ac"
      },
      "source": [
        "plot_delta(dataset_JKT)"
      ],
      "execution_count": 46,
      "outputs": [
        {
          "output_type": "display_data",
          "data": {
            "image/png": "[encoded data removed]",
            "text/plain": [
              "<Figure size 432x288 with 1 Axes>"
            ]
          },
          "metadata": {
            "tags": [],
            "needs_background": "light"
          }
        }
      ]
    },
    {
      "cell_type": "markdown",
      "metadata": {
        "id": "n4FQVWyfROFk"
      },
      "source": [
        "function to get y values from TimeSeriesGenerator"
      ]
    },
    {
      "cell_type": "code",
      "metadata": {
        "id": "lIbi9z-Z1Mt8"
      },
      "source": [
        "def get_y_from_generator(gen):\n",
        "    '''\n",
        "    Get all targets y from a TimeseriesGenerator instance.\n",
        "    '''\n",
        "    y = None\n",
        "    for i in range(len(gen)):\n",
        "        batch_y = gen[i][1]\n",
        "        if y is None:\n",
        "            y = batch_y\n",
        "        else:\n",
        "            y = np.append(y, batch_y)\n",
        "    y = y.reshape((-1,1))\n",
        "    print(y.shape)\n",
        "    return y"
      ],
      "execution_count": 47,
      "outputs": []
    },
    {
      "cell_type": "code",
      "metadata": {
        "id": "_JwbISCj1Pus"
      },
      "source": [
        "def binary_accuracy(a, b):\n",
        "    '''\n",
        "    Helper function to compute the match score of two \n",
        "    binary numpy arrays.\n",
        "    '''\n",
        "    assert len(a) == len(b)\n",
        "    return (a == b).sum() / len(a)  "
      ],
      "execution_count": 48,
      "outputs": []
    },
    {
      "cell_type": "markdown",
      "metadata": {
        "id": "oHTN338aRY2p"
      },
      "source": [
        "normalize datset and split dataset to train and test"
      ]
    },
    {
      "cell_type": "code",
      "metadata": {
        "id": "nv9F0M_O1Uj2"
      },
      "source": [
        "dataset = dataset_delta_JKT\n",
        "# normalize the dataset\n",
        "scaler = MinMaxScaler(feature_range=(0, 1))\n",
        "dataset = scaler.fit_transform(dataset)\n",
        "# split into train and test sets\n",
        "train_size = int(len(dataset) * 0.67)\n",
        "test_size = len(dataset) - train_size\n",
        "train, test = dataset[0:train_size,:], dataset[train_size:len(dataset),:]"
      ],
      "execution_count": 49,
      "outputs": []
    },
    {
      "cell_type": "markdown",
      "metadata": {
        "id": "IS57wjqiRrYw"
      },
      "source": [
        "look back every 3 days data, Look back is the number of previous days data to use, to predict the value for the next day."
      ]
    },
    {
      "cell_type": "code",
      "metadata": {
        "id": "c5lX2K7B1b5H"
      },
      "source": [
        "look_back = 3"
      ],
      "execution_count": 50,
      "outputs": []
    },
    {
      "cell_type": "code",
      "metadata": {
        "id": "p86C7GqB1dKC"
      },
      "source": [
        "train_data_gen = TimeseriesGenerator(train, train,\n",
        "                               length=look_back, sampling_rate=1,stride=1,\n",
        "                               batch_size=3)"
      ],
      "execution_count": 51,
      "outputs": []
    },
    {
      "cell_type": "code",
      "metadata": {
        "id": "QmHLEghh1efY"
      },
      "source": [
        "test_data_gen = TimeseriesGenerator(test, test,\n",
        "                               length=look_back, sampling_rate=1,stride=1,\n",
        "                               batch_size=1)"
      ],
      "execution_count": 52,
      "outputs": []
    },
    {
      "cell_type": "markdown",
      "metadata": {
        "id": "ODcSFkWIRvsB"
      },
      "source": [
        "define model machine learning and training start"
      ]
    },
    {
      "cell_type": "code",
      "metadata": {
        "id": "4-moHBVG1mWL"
      },
      "source": [
        "model = Sequential()\n",
        "model.add(LSTM(4, input_shape=(look_back, 1)))\n",
        "model.add(Dense(1))\n",
        "model.compile(loss='mean_squared_error', optimizer='sgd')"
      ],
      "execution_count": 53,
      "outputs": []
    },
    {
      "cell_type": "code",
      "metadata": {
        "id": "jDS7Sfm81paA",
        "colab": {
          "base_uri": "https://localhost:8080/"
        },
        "outputId": "ce288c63-ce97-4d39-da90-220529a58f45"
      },
      "source": [
        "history = model.fit_generator(train_data_gen, epochs=100).history"
      ],
      "execution_count": 54,
      "outputs": [
        {
          "output_type": "stream",
          "text": [
            "/usr/local/lib/python3.7/dist-packages/keras/engine/training.py:1915: UserWarning: `Model.fit_generator` is deprecated and will be removed in a future version. Please use `Model.fit`, which supports generators.\n",
            "  warnings.warn('`Model.fit_generator` is deprecated and '\n"
          ],
          "name": "stderr"
        },
        {
          "output_type": "stream",
          "text": [
            "Epoch 1/100\n",
            "10/10 [==============================] - 1s 3ms/step - loss: 0.3743\n",
            "Epoch 2/100\n",
            "10/10 [==============================] - 0s 3ms/step - loss: 0.2097\n",
            "Epoch 3/100\n",
            "10/10 [==============================] - 0s 3ms/step - loss: 0.0820\n",
            "Epoch 4/100\n",
            "10/10 [==============================] - 0s 3ms/step - loss: 0.0728\n",
            "Epoch 5/100\n",
            "10/10 [==============================] - 0s 3ms/step - loss: 0.0606\n",
            "Epoch 6/100\n",
            "10/10 [==============================] - 0s 3ms/step - loss: 0.0515\n",
            "Epoch 7/100\n",
            "10/10 [==============================] - 0s 3ms/step - loss: 0.0377\n",
            "Epoch 8/100\n",
            "10/10 [==============================] - 0s 3ms/step - loss: 0.0619\n",
            "Epoch 9/100\n",
            "10/10 [==============================] - 0s 3ms/step - loss: 0.0432\n",
            "Epoch 10/100\n",
            "10/10 [==============================] - 0s 3ms/step - loss: 0.0552\n",
            "Epoch 11/100\n",
            "10/10 [==============================] - 0s 3ms/step - loss: 0.0714\n",
            "Epoch 12/100\n",
            "10/10 [==============================] - 0s 3ms/step - loss: 0.0352\n",
            "Epoch 13/100\n",
            "10/10 [==============================] - 0s 3ms/step - loss: 0.0435\n",
            "Epoch 14/100\n",
            "10/10 [==============================] - 0s 3ms/step - loss: 0.0479\n",
            "Epoch 15/100\n",
            "10/10 [==============================] - 0s 3ms/step - loss: 0.0411\n",
            "Epoch 16/100\n",
            "10/10 [==============================] - 0s 3ms/step - loss: 0.0542\n",
            "Epoch 17/100\n",
            "10/10 [==============================] - 0s 3ms/step - loss: 0.0429\n",
            "Epoch 18/100\n",
            "10/10 [==============================] - 0s 3ms/step - loss: 0.0685\n",
            "Epoch 19/100\n",
            "10/10 [==============================] - 0s 3ms/step - loss: 0.0551\n",
            "Epoch 20/100\n",
            "10/10 [==============================] - 0s 3ms/step - loss: 0.0487\n",
            "Epoch 21/100\n",
            "10/10 [==============================] - 0s 3ms/step - loss: 0.0476\n",
            "Epoch 22/100\n",
            "10/10 [==============================] - 0s 4ms/step - loss: 0.0498\n",
            "Epoch 23/100\n",
            "10/10 [==============================] - 0s 3ms/step - loss: 0.0541\n",
            "Epoch 24/100\n",
            "10/10 [==============================] - 0s 3ms/step - loss: 0.0287\n",
            "Epoch 25/100\n",
            "10/10 [==============================] - 0s 3ms/step - loss: 0.0690\n",
            "Epoch 26/100\n",
            "10/10 [==============================] - 0s 3ms/step - loss: 0.0467\n",
            "Epoch 27/100\n",
            "10/10 [==============================] - 0s 3ms/step - loss: 0.0481\n",
            "Epoch 28/100\n",
            "10/10 [==============================] - 0s 3ms/step - loss: 0.0614\n",
            "Epoch 29/100\n",
            "10/10 [==============================] - 0s 3ms/step - loss: 0.0425\n",
            "Epoch 30/100\n",
            "10/10 [==============================] - 0s 3ms/step - loss: 0.0470\n",
            "Epoch 31/100\n",
            "10/10 [==============================] - 0s 3ms/step - loss: 0.0622\n",
            "Epoch 32/100\n",
            "10/10 [==============================] - 0s 3ms/step - loss: 0.0471\n",
            "Epoch 33/100\n",
            "10/10 [==============================] - 0s 3ms/step - loss: 0.0351\n",
            "Epoch 34/100\n",
            "10/10 [==============================] - 0s 3ms/step - loss: 0.0634\n",
            "Epoch 35/100\n",
            "10/10 [==============================] - 0s 3ms/step - loss: 0.0689\n",
            "Epoch 36/100\n",
            "10/10 [==============================] - 0s 3ms/step - loss: 0.0464\n",
            "Epoch 37/100\n",
            "10/10 [==============================] - 0s 3ms/step - loss: 0.0565\n",
            "Epoch 38/100\n",
            "10/10 [==============================] - 0s 3ms/step - loss: 0.0478\n",
            "Epoch 39/100\n",
            "10/10 [==============================] - 0s 3ms/step - loss: 0.0360\n",
            "Epoch 40/100\n",
            "10/10 [==============================] - 0s 3ms/step - loss: 0.0502\n",
            "Epoch 41/100\n",
            "10/10 [==============================] - 0s 3ms/step - loss: 0.0352\n",
            "Epoch 42/100\n",
            "10/10 [==============================] - 0s 3ms/step - loss: 0.0634\n",
            "Epoch 43/100\n",
            "10/10 [==============================] - 0s 3ms/step - loss: 0.0672\n",
            "Epoch 44/100\n",
            "10/10 [==============================] - 0s 3ms/step - loss: 0.0581\n",
            "Epoch 45/100\n",
            "10/10 [==============================] - 0s 3ms/step - loss: 0.0429\n",
            "Epoch 46/100\n",
            "10/10 [==============================] - 0s 3ms/step - loss: 0.0378\n",
            "Epoch 47/100\n",
            "10/10 [==============================] - 0s 3ms/step - loss: 0.0605\n",
            "Epoch 48/100\n",
            "10/10 [==============================] - 0s 3ms/step - loss: 0.0517\n",
            "Epoch 49/100\n",
            "10/10 [==============================] - 0s 3ms/step - loss: 0.0490\n",
            "Epoch 50/100\n",
            "10/10 [==============================] - 0s 4ms/step - loss: 0.0578\n",
            "Epoch 51/100\n",
            "10/10 [==============================] - 0s 3ms/step - loss: 0.0485\n",
            "Epoch 52/100\n",
            "10/10 [==============================] - 0s 3ms/step - loss: 0.0481\n",
            "Epoch 53/100\n",
            "10/10 [==============================] - 0s 3ms/step - loss: 0.0437\n",
            "Epoch 54/100\n",
            "10/10 [==============================] - 0s 4ms/step - loss: 0.0334\n",
            "Epoch 55/100\n",
            "10/10 [==============================] - 0s 3ms/step - loss: 0.0655\n",
            "Epoch 56/100\n",
            "10/10 [==============================] - 0s 3ms/step - loss: 0.0515\n",
            "Epoch 57/100\n",
            "10/10 [==============================] - 0s 3ms/step - loss: 0.0432\n",
            "Epoch 58/100\n",
            "10/10 [==============================] - 0s 3ms/step - loss: 0.0546\n",
            "Epoch 59/100\n",
            "10/10 [==============================] - 0s 3ms/step - loss: 0.0551\n",
            "Epoch 60/100\n",
            "10/10 [==============================] - 0s 3ms/step - loss: 0.0592\n",
            "Epoch 61/100\n",
            "10/10 [==============================] - 0s 3ms/step - loss: 0.0409\n",
            "Epoch 62/100\n",
            "10/10 [==============================] - 0s 4ms/step - loss: 0.0560\n",
            "Epoch 63/100\n",
            "10/10 [==============================] - 0s 3ms/step - loss: 0.0470\n",
            "Epoch 64/100\n",
            "10/10 [==============================] - 0s 3ms/step - loss: 0.0389\n",
            "Epoch 65/100\n",
            "10/10 [==============================] - 0s 3ms/step - loss: 0.0458\n",
            "Epoch 66/100\n",
            "10/10 [==============================] - 0s 3ms/step - loss: 0.0473\n",
            "Epoch 67/100\n",
            "10/10 [==============================] - 0s 3ms/step - loss: 0.0504\n",
            "Epoch 68/100\n",
            "10/10 [==============================] - 0s 3ms/step - loss: 0.0431\n",
            "Epoch 69/100\n",
            "10/10 [==============================] - 0s 4ms/step - loss: 0.0520\n",
            "Epoch 70/100\n",
            "10/10 [==============================] - 0s 3ms/step - loss: 0.0396\n",
            "Epoch 71/100\n",
            "10/10 [==============================] - 0s 3ms/step - loss: 0.0421\n",
            "Epoch 72/100\n",
            "10/10 [==============================] - 0s 3ms/step - loss: 0.0565\n",
            "Epoch 73/100\n",
            "10/10 [==============================] - 0s 4ms/step - loss: 0.0486\n",
            "Epoch 74/100\n",
            "10/10 [==============================] - 0s 3ms/step - loss: 0.0578\n",
            "Epoch 75/100\n",
            "10/10 [==============================] - 0s 3ms/step - loss: 0.0424\n",
            "Epoch 76/100\n",
            "10/10 [==============================] - 0s 3ms/step - loss: 0.0355\n",
            "Epoch 77/100\n",
            "10/10 [==============================] - 0s 3ms/step - loss: 0.0661\n",
            "Epoch 78/100\n",
            "10/10 [==============================] - 0s 3ms/step - loss: 0.0298\n",
            "Epoch 79/100\n",
            "10/10 [==============================] - 0s 3ms/step - loss: 0.0701\n",
            "Epoch 80/100\n",
            "10/10 [==============================] - 0s 3ms/step - loss: 0.0575\n",
            "Epoch 81/100\n",
            "10/10 [==============================] - 0s 3ms/step - loss: 0.0497\n",
            "Epoch 82/100\n",
            "10/10 [==============================] - 0s 3ms/step - loss: 0.0478\n",
            "Epoch 83/100\n",
            "10/10 [==============================] - 0s 3ms/step - loss: 0.0513\n",
            "Epoch 84/100\n",
            "10/10 [==============================] - 0s 3ms/step - loss: 0.0552\n",
            "Epoch 85/100\n",
            "10/10 [==============================] - 0s 4ms/step - loss: 0.0305\n",
            "Epoch 86/100\n",
            "10/10 [==============================] - 0s 3ms/step - loss: 0.0486\n",
            "Epoch 87/100\n",
            "10/10 [==============================] - 0s 3ms/step - loss: 0.0496\n",
            "Epoch 88/100\n",
            "10/10 [==============================] - 0s 3ms/step - loss: 0.0577\n",
            "Epoch 89/100\n",
            "10/10 [==============================] - 0s 3ms/step - loss: 0.0431\n",
            "Epoch 90/100\n",
            "10/10 [==============================] - 0s 3ms/step - loss: 0.0521\n",
            "Epoch 91/100\n",
            "10/10 [==============================] - 0s 3ms/step - loss: 0.0743\n",
            "Epoch 92/100\n",
            "10/10 [==============================] - 0s 3ms/step - loss: 0.0582\n",
            "Epoch 93/100\n",
            "10/10 [==============================] - 0s 3ms/step - loss: 0.0549\n",
            "Epoch 94/100\n",
            "10/10 [==============================] - 0s 3ms/step - loss: 0.0509\n",
            "Epoch 95/100\n",
            "10/10 [==============================] - 0s 3ms/step - loss: 0.0710\n",
            "Epoch 96/100\n",
            "10/10 [==============================] - 0s 3ms/step - loss: 0.0411\n",
            "Epoch 97/100\n",
            "10/10 [==============================] - 0s 3ms/step - loss: 0.0575\n",
            "Epoch 98/100\n",
            "10/10 [==============================] - 0s 3ms/step - loss: 0.0546\n",
            "Epoch 99/100\n",
            "10/10 [==============================] - 0s 3ms/step - loss: 0.0686\n",
            "Epoch 100/100\n",
            "10/10 [==============================] - 0s 3ms/step - loss: 0.0568\n"
          ],
          "name": "stdout"
        }
      ]
    },
    {
      "cell_type": "markdown",
      "metadata": {
        "id": "glhdFGtgSJFX"
      },
      "source": [
        "Evaluates the model on a data generator."
      ]
    },
    {
      "cell_type": "code",
      "metadata": {
        "id": "6zAoxK_G1q53",
        "colab": {
          "base_uri": "https://localhost:8080/"
        },
        "outputId": "d76c56eb-a16c-48bc-aee0-12fc0eaa5a6f"
      },
      "source": [
        "model.evaluate_generator(test_data_gen)"
      ],
      "execution_count": 55,
      "outputs": [
        {
          "output_type": "stream",
          "text": [
            "/usr/local/lib/python3.7/dist-packages/keras/engine/training.py:1948: UserWarning: `Model.evaluate_generator` is deprecated and will be removed in a future version. Please use `Model.evaluate`, which supports generators.\n",
            "  warnings.warn('`Model.evaluate_generator` is deprecated and '\n"
          ],
          "name": "stderr"
        },
        {
          "output_type": "execute_result",
          "data": {
            "text/plain": [
              "0.07974260300397873"
            ]
          },
          "metadata": {
            "tags": []
          },
          "execution_count": 55
        }
      ]
    },
    {
      "cell_type": "markdown",
      "metadata": {
        "id": "mgEcGPwdSGRe"
      },
      "source": [
        "Generates predictions for the input samples from a data generator."
      ]
    },
    {
      "cell_type": "code",
      "metadata": {
        "id": "Uiu9nzHF1soi",
        "colab": {
          "base_uri": "https://localhost:8080/"
        },
        "outputId": "a087408c-bb8e-45c1-e91f-8a94867eda33"
      },
      "source": [
        "trainPredict = model.predict_generator(train_data_gen)\n",
        "trainPredict.shape"
      ],
      "execution_count": 56,
      "outputs": [
        {
          "output_type": "stream",
          "text": [
            "/usr/local/lib/python3.7/dist-packages/keras/engine/training.py:1976: UserWarning: `Model.predict_generator` is deprecated and will be removed in a future version. Please use `Model.predict`, which supports generators.\n",
            "  warnings.warn('`Model.predict_generator` is deprecated and '\n"
          ],
          "name": "stderr"
        },
        {
          "output_type": "execute_result",
          "data": {
            "text/plain": [
              "(30, 1)"
            ]
          },
          "metadata": {
            "tags": []
          },
          "execution_count": 56
        }
      ]
    },
    {
      "cell_type": "code",
      "metadata": {
        "id": "aoOL8R2u1uCE",
        "colab": {
          "base_uri": "https://localhost:8080/"
        },
        "outputId": "136513e9-8179-41b1-e628-c48c4a05c1b8"
      },
      "source": [
        "testPredict = model.predict_generator(test_data_gen)\n",
        "testPredict.shape"
      ],
      "execution_count": 57,
      "outputs": [
        {
          "output_type": "stream",
          "text": [
            "/usr/local/lib/python3.7/dist-packages/keras/engine/training.py:1976: UserWarning: `Model.predict_generator` is deprecated and will be removed in a future version. Please use `Model.predict`, which supports generators.\n",
            "  warnings.warn('`Model.predict_generator` is deprecated and '\n"
          ],
          "name": "stderr"
        },
        {
          "output_type": "execute_result",
          "data": {
            "text/plain": [
              "(14, 1)"
            ]
          },
          "metadata": {
            "tags": []
          },
          "execution_count": 57
        }
      ]
    },
    {
      "cell_type": "markdown",
      "metadata": {
        "id": "OdpPswP2ZsIO"
      },
      "source": [
        "invert predictions, scale values back to real index range."
      ]
    },
    {
      "cell_type": "code",
      "metadata": {
        "id": "qWAHDIOq11BT"
      },
      "source": [
        "trainPredict = scaler.inverse_transform(trainPredict)\n",
        "testPredict = scaler.inverse_transform(testPredict)"
      ],
      "execution_count": 58,
      "outputs": []
    },
    {
      "cell_type": "code",
      "metadata": {
        "id": "t2hRn9jI12aA",
        "colab": {
          "base_uri": "https://localhost:8080/"
        },
        "outputId": "29e514cc-30d2-4b5d-9a56-624703845899"
      },
      "source": [
        "trainY = get_y_from_generator(train_data_gen)\n",
        "testY = get_y_from_generator(test_data_gen)"
      ],
      "execution_count": 59,
      "outputs": [
        {
          "output_type": "stream",
          "text": [
            "(30, 1)\n",
            "(14, 1)\n"
          ],
          "name": "stdout"
        }
      ]
    },
    {
      "cell_type": "code",
      "metadata": {
        "id": "tOhsKtb-13bu"
      },
      "source": [
        "trainY = scaler.inverse_transform(trainY)\n",
        "testY = scaler.inverse_transform(testY)"
      ],
      "execution_count": 60,
      "outputs": []
    },
    {
      "cell_type": "markdown",
      "metadata": {
        "id": "iYQdXkthZ3xF"
      },
      "source": [
        "calculate root mean squared error"
      ]
    },
    {
      "cell_type": "code",
      "metadata": {
        "id": "aCTV5AVl15Kp",
        "colab": {
          "base_uri": "https://localhost:8080/"
        },
        "outputId": "b6672cc2-b94f-4155-e05a-482e4a6b7094"
      },
      "source": [
        "trainScore = math.sqrt(mean_squared_error(trainY[:,0], trainPredict[:,0]))\n",
        "print('Train Score: %.2f RMSE' % (trainScore))\n",
        "testScore = math.sqrt(mean_squared_error(testY[:, 0], testPredict[:,0]))\n",
        "print('Test Score: %.2f RMSE' % (testScore))"
      ],
      "execution_count": 61,
      "outputs": [
        {
          "output_type": "stream",
          "text": [
            "Train Score: 17058.63 RMSE\n",
            "Test Score: 21530.06 RMSE\n"
          ],
          "name": "stdout"
        }
      ]
    },
    {
      "cell_type": "markdown",
      "metadata": {
        "id": "3pX2sBNhZ_N6"
      },
      "source": [
        "invert dataset, scale values back to real index range."
      ]
    },
    {
      "cell_type": "code",
      "metadata": {
        "id": "qygBl6Xy165D",
        "colab": {
          "base_uri": "https://localhost:8080/"
        },
        "outputId": "4a562ef8-f600-4ce9-cab2-7ae0e2c07a60"
      },
      "source": [
        "dataset = scaler.inverse_transform(dataset)\n",
        "dataset.shape"
      ],
      "execution_count": 62,
      "outputs": [
        {
          "output_type": "execute_result",
          "data": {
            "text/plain": [
              "(50, 1)"
            ]
          },
          "metadata": {
            "tags": []
          },
          "execution_count": 62
        }
      ]
    },
    {
      "cell_type": "markdown",
      "metadata": {
        "id": "_r9PpJiWQy1e"
      },
      "source": [
        "dataset added by changes everyday to see the difference everyday"
      ]
    },
    {
      "cell_type": "code",
      "metadata": {
        "id": "L3pW7B4Y19U5"
      },
      "source": [
        "# shift train predictions for plotting\n",
        "trainPredictPlot = np.empty_like(dataset)\n",
        "trainPredictPlot[:, :] = np.nan\n",
        "trainPredictPlot[look_back:len(trainPredict)+look_back, :] = trainPredict\n",
        "\n",
        "# Delta + previous close\n",
        "trainPredictPlot = trainPredictPlot + dataset_JKT[1:]"
      ],
      "execution_count": 63,
      "outputs": []
    },
    {
      "cell_type": "code",
      "metadata": {
        "id": "UwORLKCc1-ZV"
      },
      "source": [
        "# shift test predictions for plotting\n",
        "testPredictPlot = np.empty_like(dataset)\n",
        "testPredictPlot[:, :] = np.nan\n",
        "testPredictPlot[len(trainPredict)+(look_back*2):len(dataset), :] = testPredict\n",
        "\n",
        "# Delta + previous close\n",
        "testPredictPlot = testPredictPlot + dataset_JKT[1:]"
      ],
      "execution_count": 64,
      "outputs": []
    },
    {
      "cell_type": "code",
      "metadata": {
        "id": "vy8JTz5C1_bp",
        "colab": {
          "base_uri": "https://localhost:8080/",
          "height": 275
        },
        "outputId": "0a4f1978-a562-4b9b-f715-dc2b3aac5289"
      },
      "source": [
        "# plot baseline and predictions\n",
        "datsetLegend = plt.plot(dataset + dataset_JKT[1:], label='Dataset')\n",
        "trainLegend = plt.plot(trainPredictPlot, label = 'Train')\n",
        "testLegend = plt.plot(testPredictPlot, label = 'Test prediction')\n",
        "plt.legend()\n",
        "plt.show()"
      ],
      "execution_count": 65,
      "outputs": [
        {
          "output_type": "display_data",
          "data": {
            "image/png": "[encoded data removed]",
            "text/plain": [
              "<Figure size 432x288 with 1 Axes>"
            ]
          },
          "metadata": {
            "tags": [],
            "needs_background": "light"
          }
        }
      ]
    },
    {
      "cell_type": "code",
      "metadata": {
        "id": "bvK4UdDq2AWa",
        "colab": {
          "base_uri": "https://localhost:8080/",
          "height": 275
        },
        "outputId": "07c0bf9e-54cb-4512-93bc-e12f2320351f"
      },
      "source": [
        "# plot baseline and predictions\n",
        "datasetLegend = plt.plot(dataset + dataset_JKT[:-1], label='Dataset')\n",
        "trainLegend = plt.plot(trainPredictPlot,label='Train')\n",
        "testLegend = plt.plot(testPredictPlot,label='Test prediction')\n",
        "plt.legend();\n",
        "plt.show()"
      ],
      "execution_count": 66,
      "outputs": [
        {
          "output_type": "display_data",
          "data": {
            "image/png": "[encoded data removed]",
            "text/plain": [
              "<Figure size 432x288 with 1 Axes>"
            ]
          },
          "metadata": {
            "tags": [],
            "needs_background": "light"
          }
        }
      ]
    },
    {
      "cell_type": "code",
      "metadata": {
        "id": "jk68JBZoS91M"
      },
      "source": [
        "model.save(\"my_h5_model.h5\")"
      ],
      "execution_count": 67,
      "outputs": []
    }
  ]
}